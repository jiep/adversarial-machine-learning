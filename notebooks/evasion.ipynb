{
  "nbformat": 4,
  "nbformat_minor": 0,
  "metadata": {
    "colab": {
      "name": "evasion",
      "provenance": [],
      "collapsed_sections": [],
      "toc_visible": true
    },
    "kernelspec": {
      "name": "python3",
      "display_name": "Python 3"
    },
    "accelerator": "GPU",
    "widgets": {
      "application/vnd.jupyter.widget-state+json": {
        "91fceb9a4983484ab8b9ddc34d49820d": {
          "model_module": "@jupyter-widgets/controls",
          "model_name": "HBoxModel",
          "model_module_version": "1.5.0",
          "state": {
            "_view_name": "HBoxView",
            "_dom_classes": [],
            "_model_name": "HBoxModel",
            "_view_module": "@jupyter-widgets/controls",
            "_model_module_version": "1.5.0",
            "_view_count": null,
            "_view_module_version": "1.5.0",
            "box_style": "",
            "layout": "IPY_MODEL_29491a513de544cb937fc93b36d3507e",
            "_model_module": "@jupyter-widgets/controls",
            "children": [
              "IPY_MODEL_0224291c8dc941268eab317372e96454",
              "IPY_MODEL_52882fb6a0cb476ea6f7f39eae26cc4b",
              "IPY_MODEL_ac15796f6f6e45689e3a338885483ca7"
            ]
          }
        },
        "29491a513de544cb937fc93b36d3507e": {
          "model_module": "@jupyter-widgets/base",
          "model_name": "LayoutModel",
          "model_module_version": "1.2.0",
          "state": {
            "_view_name": "LayoutView",
            "grid_template_rows": null,
            "right": null,
            "justify_content": null,
            "_view_module": "@jupyter-widgets/base",
            "overflow": null,
            "_model_module_version": "1.2.0",
            "_view_count": null,
            "flex_flow": null,
            "width": null,
            "min_width": null,
            "border": null,
            "align_items": null,
            "bottom": null,
            "_model_module": "@jupyter-widgets/base",
            "top": null,
            "grid_column": null,
            "overflow_y": null,
            "overflow_x": null,
            "grid_auto_flow": null,
            "grid_area": null,
            "grid_template_columns": null,
            "flex": null,
            "_model_name": "LayoutModel",
            "justify_items": null,
            "grid_row": null,
            "max_height": null,
            "align_content": null,
            "visibility": null,
            "align_self": null,
            "height": null,
            "min_height": null,
            "padding": null,
            "grid_auto_rows": null,
            "grid_gap": null,
            "max_width": null,
            "order": null,
            "_view_module_version": "1.2.0",
            "grid_template_areas": null,
            "object_position": null,
            "object_fit": null,
            "grid_auto_columns": null,
            "margin": null,
            "display": null,
            "left": null
          }
        },
        "0224291c8dc941268eab317372e96454": {
          "model_module": "@jupyter-widgets/controls",
          "model_name": "HTMLModel",
          "model_module_version": "1.5.0",
          "state": {
            "_view_name": "HTMLView",
            "style": "IPY_MODEL_1082ecd5711e4b1c8e73bbc77b4246be",
            "_dom_classes": [],
            "description": "",
            "_model_name": "HTMLModel",
            "placeholder": "​",
            "_view_module": "@jupyter-widgets/controls",
            "_model_module_version": "1.5.0",
            "value": "Precompute adv samples: 100%",
            "_view_count": null,
            "_view_module_version": "1.5.0",
            "description_tooltip": null,
            "_model_module": "@jupyter-widgets/controls",
            "layout": "IPY_MODEL_a32d954217b144888b3aeb3695beb8ce"
          }
        },
        "52882fb6a0cb476ea6f7f39eae26cc4b": {
          "model_module": "@jupyter-widgets/controls",
          "model_name": "FloatProgressModel",
          "model_module_version": "1.5.0",
          "state": {
            "_view_name": "ProgressView",
            "style": "IPY_MODEL_08ccf811d11140fb920bc1a1db2a6bf3",
            "_dom_classes": [],
            "description": "",
            "_model_name": "FloatProgressModel",
            "bar_style": "success",
            "max": 1,
            "_view_module": "@jupyter-widgets/controls",
            "_model_module_version": "1.5.0",
            "value": 1,
            "_view_count": null,
            "_view_module_version": "1.5.0",
            "orientation": "horizontal",
            "min": 0,
            "description_tooltip": null,
            "_model_module": "@jupyter-widgets/controls",
            "layout": "IPY_MODEL_93004c7a02c84417bb80a6e86c97c5ca"
          }
        },
        "ac15796f6f6e45689e3a338885483ca7": {
          "model_module": "@jupyter-widgets/controls",
          "model_name": "HTMLModel",
          "model_module_version": "1.5.0",
          "state": {
            "_view_name": "HTMLView",
            "style": "IPY_MODEL_03d5c96ef86741318402ef94ff279450",
            "_dom_classes": [],
            "description": "",
            "_model_name": "HTMLModel",
            "placeholder": "​",
            "_view_module": "@jupyter-widgets/controls",
            "_model_module_version": "1.5.0",
            "value": " 1/1 [00:00&lt;00:00, 21.77it/s]",
            "_view_count": null,
            "_view_module_version": "1.5.0",
            "description_tooltip": null,
            "_model_module": "@jupyter-widgets/controls",
            "layout": "IPY_MODEL_e2a1cc8d88464e0ea501d1901a2cc53a"
          }
        },
        "1082ecd5711e4b1c8e73bbc77b4246be": {
          "model_module": "@jupyter-widgets/controls",
          "model_name": "DescriptionStyleModel",
          "model_module_version": "1.5.0",
          "state": {
            "_view_name": "StyleView",
            "_model_name": "DescriptionStyleModel",
            "description_width": "",
            "_view_module": "@jupyter-widgets/base",
            "_model_module_version": "1.5.0",
            "_view_count": null,
            "_view_module_version": "1.2.0",
            "_model_module": "@jupyter-widgets/controls"
          }
        },
        "a32d954217b144888b3aeb3695beb8ce": {
          "model_module": "@jupyter-widgets/base",
          "model_name": "LayoutModel",
          "model_module_version": "1.2.0",
          "state": {
            "_view_name": "LayoutView",
            "grid_template_rows": null,
            "right": null,
            "justify_content": null,
            "_view_module": "@jupyter-widgets/base",
            "overflow": null,
            "_model_module_version": "1.2.0",
            "_view_count": null,
            "flex_flow": null,
            "width": null,
            "min_width": null,
            "border": null,
            "align_items": null,
            "bottom": null,
            "_model_module": "@jupyter-widgets/base",
            "top": null,
            "grid_column": null,
            "overflow_y": null,
            "overflow_x": null,
            "grid_auto_flow": null,
            "grid_area": null,
            "grid_template_columns": null,
            "flex": null,
            "_model_name": "LayoutModel",
            "justify_items": null,
            "grid_row": null,
            "max_height": null,
            "align_content": null,
            "visibility": null,
            "align_self": null,
            "height": null,
            "min_height": null,
            "padding": null,
            "grid_auto_rows": null,
            "grid_gap": null,
            "max_width": null,
            "order": null,
            "_view_module_version": "1.2.0",
            "grid_template_areas": null,
            "object_position": null,
            "object_fit": null,
            "grid_auto_columns": null,
            "margin": null,
            "display": null,
            "left": null
          }
        },
        "08ccf811d11140fb920bc1a1db2a6bf3": {
          "model_module": "@jupyter-widgets/controls",
          "model_name": "ProgressStyleModel",
          "model_module_version": "1.5.0",
          "state": {
            "_view_name": "StyleView",
            "_model_name": "ProgressStyleModel",
            "description_width": "",
            "_view_module": "@jupyter-widgets/base",
            "_model_module_version": "1.5.0",
            "_view_count": null,
            "_view_module_version": "1.2.0",
            "bar_color": null,
            "_model_module": "@jupyter-widgets/controls"
          }
        },
        "93004c7a02c84417bb80a6e86c97c5ca": {
          "model_module": "@jupyter-widgets/base",
          "model_name": "LayoutModel",
          "model_module_version": "1.2.0",
          "state": {
            "_view_name": "LayoutView",
            "grid_template_rows": null,
            "right": null,
            "justify_content": null,
            "_view_module": "@jupyter-widgets/base",
            "overflow": null,
            "_model_module_version": "1.2.0",
            "_view_count": null,
            "flex_flow": null,
            "width": null,
            "min_width": null,
            "border": null,
            "align_items": null,
            "bottom": null,
            "_model_module": "@jupyter-widgets/base",
            "top": null,
            "grid_column": null,
            "overflow_y": null,
            "overflow_x": null,
            "grid_auto_flow": null,
            "grid_area": null,
            "grid_template_columns": null,
            "flex": null,
            "_model_name": "LayoutModel",
            "justify_items": null,
            "grid_row": null,
            "max_height": null,
            "align_content": null,
            "visibility": null,
            "align_self": null,
            "height": null,
            "min_height": null,
            "padding": null,
            "grid_auto_rows": null,
            "grid_gap": null,
            "max_width": null,
            "order": null,
            "_view_module_version": "1.2.0",
            "grid_template_areas": null,
            "object_position": null,
            "object_fit": null,
            "grid_auto_columns": null,
            "margin": null,
            "display": null,
            "left": null
          }
        },
        "03d5c96ef86741318402ef94ff279450": {
          "model_module": "@jupyter-widgets/controls",
          "model_name": "DescriptionStyleModel",
          "model_module_version": "1.5.0",
          "state": {
            "_view_name": "StyleView",
            "_model_name": "DescriptionStyleModel",
            "description_width": "",
            "_view_module": "@jupyter-widgets/base",
            "_model_module_version": "1.5.0",
            "_view_count": null,
            "_view_module_version": "1.2.0",
            "_model_module": "@jupyter-widgets/controls"
          }
        },
        "e2a1cc8d88464e0ea501d1901a2cc53a": {
          "model_module": "@jupyter-widgets/base",
          "model_name": "LayoutModel",
          "model_module_version": "1.2.0",
          "state": {
            "_view_name": "LayoutView",
            "grid_template_rows": null,
            "right": null,
            "justify_content": null,
            "_view_module": "@jupyter-widgets/base",
            "overflow": null,
            "_model_module_version": "1.2.0",
            "_view_count": null,
            "flex_flow": null,
            "width": null,
            "min_width": null,
            "border": null,
            "align_items": null,
            "bottom": null,
            "_model_module": "@jupyter-widgets/base",
            "top": null,
            "grid_column": null,
            "overflow_y": null,
            "overflow_x": null,
            "grid_auto_flow": null,
            "grid_area": null,
            "grid_template_columns": null,
            "flex": null,
            "_model_name": "LayoutModel",
            "justify_items": null,
            "grid_row": null,
            "max_height": null,
            "align_content": null,
            "visibility": null,
            "align_self": null,
            "height": null,
            "min_height": null,
            "padding": null,
            "grid_auto_rows": null,
            "grid_gap": null,
            "max_width": null,
            "order": null,
            "_view_module_version": "1.2.0",
            "grid_template_areas": null,
            "object_position": null,
            "object_fit": null,
            "grid_auto_columns": null,
            "margin": null,
            "display": null,
            "left": null
          }
        },
        "32177be2cabb4a2ab044446dae4c9121": {
          "model_module": "@jupyter-widgets/controls",
          "model_name": "HBoxModel",
          "model_module_version": "1.5.0",
          "state": {
            "_view_name": "HBoxView",
            "_dom_classes": [],
            "_model_name": "HBoxModel",
            "_view_module": "@jupyter-widgets/controls",
            "_model_module_version": "1.5.0",
            "_view_count": null,
            "_view_module_version": "1.5.0",
            "box_style": "",
            "layout": "IPY_MODEL_467d7d8dc7ba4e50b930795afa2b758e",
            "_model_module": "@jupyter-widgets/controls",
            "children": [
              "IPY_MODEL_83c994127e88447d874017e064723f56",
              "IPY_MODEL_101085ef01e0497a8ca13d203a41ec21",
              "IPY_MODEL_e60a0361f429438487a0acee89ddd68a"
            ]
          }
        },
        "467d7d8dc7ba4e50b930795afa2b758e": {
          "model_module": "@jupyter-widgets/base",
          "model_name": "LayoutModel",
          "model_module_version": "1.2.0",
          "state": {
            "_view_name": "LayoutView",
            "grid_template_rows": null,
            "right": null,
            "justify_content": null,
            "_view_module": "@jupyter-widgets/base",
            "overflow": null,
            "_model_module_version": "1.2.0",
            "_view_count": null,
            "flex_flow": null,
            "width": null,
            "min_width": null,
            "border": null,
            "align_items": null,
            "bottom": null,
            "_model_module": "@jupyter-widgets/base",
            "top": null,
            "grid_column": null,
            "overflow_y": null,
            "overflow_x": null,
            "grid_auto_flow": null,
            "grid_area": null,
            "grid_template_columns": null,
            "flex": null,
            "_model_name": "LayoutModel",
            "justify_items": null,
            "grid_row": null,
            "max_height": null,
            "align_content": null,
            "visibility": null,
            "align_self": null,
            "height": null,
            "min_height": null,
            "padding": null,
            "grid_auto_rows": null,
            "grid_gap": null,
            "max_width": null,
            "order": null,
            "_view_module_version": "1.2.0",
            "grid_template_areas": null,
            "object_position": null,
            "object_fit": null,
            "grid_auto_columns": null,
            "margin": null,
            "display": null,
            "left": null
          }
        },
        "83c994127e88447d874017e064723f56": {
          "model_module": "@jupyter-widgets/controls",
          "model_name": "HTMLModel",
          "model_module_version": "1.5.0",
          "state": {
            "_view_name": "HTMLView",
            "style": "IPY_MODEL_80c14bc5ee9242a495b297f427edbec9",
            "_dom_classes": [],
            "description": "",
            "_model_name": "HTMLModel",
            "placeholder": "​",
            "_view_module": "@jupyter-widgets/controls",
            "_model_module_version": "1.5.0",
            "value": "Adversarial training epochs: 100%",
            "_view_count": null,
            "_view_module_version": "1.5.0",
            "description_tooltip": null,
            "_model_module": "@jupyter-widgets/controls",
            "layout": "IPY_MODEL_6ce646b5ffd24dc2a9836d952d984e1b"
          }
        },
        "101085ef01e0497a8ca13d203a41ec21": {
          "model_module": "@jupyter-widgets/controls",
          "model_name": "FloatProgressModel",
          "model_module_version": "1.5.0",
          "state": {
            "_view_name": "ProgressView",
            "style": "IPY_MODEL_c2d32d4d134641c68545e3bc397e9d1c",
            "_dom_classes": [],
            "description": "",
            "_model_name": "FloatProgressModel",
            "bar_style": "success",
            "max": 3,
            "_view_module": "@jupyter-widgets/controls",
            "_model_module_version": "1.5.0",
            "value": 3,
            "_view_count": null,
            "_view_module_version": "1.5.0",
            "orientation": "horizontal",
            "min": 0,
            "description_tooltip": null,
            "_model_module": "@jupyter-widgets/controls",
            "layout": "IPY_MODEL_cfefd1df58c5436c9ff2846ca8ab7c7b"
          }
        },
        "e60a0361f429438487a0acee89ddd68a": {
          "model_module": "@jupyter-widgets/controls",
          "model_name": "HTMLModel",
          "model_module_version": "1.5.0",
          "state": {
            "_view_name": "HTMLView",
            "style": "IPY_MODEL_49e71d4269164d79be4579dd1801a889",
            "_dom_classes": [],
            "description": "",
            "_model_name": "HTMLModel",
            "placeholder": "​",
            "_view_module": "@jupyter-widgets/controls",
            "_model_module_version": "1.5.0",
            "value": " 3/3 [00:32&lt;00:00, 10.85s/it]",
            "_view_count": null,
            "_view_module_version": "1.5.0",
            "description_tooltip": null,
            "_model_module": "@jupyter-widgets/controls",
            "layout": "IPY_MODEL_afcf530feb924bb293374efa0374ef2d"
          }
        },
        "80c14bc5ee9242a495b297f427edbec9": {
          "model_module": "@jupyter-widgets/controls",
          "model_name": "DescriptionStyleModel",
          "model_module_version": "1.5.0",
          "state": {
            "_view_name": "StyleView",
            "_model_name": "DescriptionStyleModel",
            "description_width": "",
            "_view_module": "@jupyter-widgets/base",
            "_model_module_version": "1.5.0",
            "_view_count": null,
            "_view_module_version": "1.2.0",
            "_model_module": "@jupyter-widgets/controls"
          }
        },
        "6ce646b5ffd24dc2a9836d952d984e1b": {
          "model_module": "@jupyter-widgets/base",
          "model_name": "LayoutModel",
          "model_module_version": "1.2.0",
          "state": {
            "_view_name": "LayoutView",
            "grid_template_rows": null,
            "right": null,
            "justify_content": null,
            "_view_module": "@jupyter-widgets/base",
            "overflow": null,
            "_model_module_version": "1.2.0",
            "_view_count": null,
            "flex_flow": null,
            "width": null,
            "min_width": null,
            "border": null,
            "align_items": null,
            "bottom": null,
            "_model_module": "@jupyter-widgets/base",
            "top": null,
            "grid_column": null,
            "overflow_y": null,
            "overflow_x": null,
            "grid_auto_flow": null,
            "grid_area": null,
            "grid_template_columns": null,
            "flex": null,
            "_model_name": "LayoutModel",
            "justify_items": null,
            "grid_row": null,
            "max_height": null,
            "align_content": null,
            "visibility": null,
            "align_self": null,
            "height": null,
            "min_height": null,
            "padding": null,
            "grid_auto_rows": null,
            "grid_gap": null,
            "max_width": null,
            "order": null,
            "_view_module_version": "1.2.0",
            "grid_template_areas": null,
            "object_position": null,
            "object_fit": null,
            "grid_auto_columns": null,
            "margin": null,
            "display": null,
            "left": null
          }
        },
        "c2d32d4d134641c68545e3bc397e9d1c": {
          "model_module": "@jupyter-widgets/controls",
          "model_name": "ProgressStyleModel",
          "model_module_version": "1.5.0",
          "state": {
            "_view_name": "StyleView",
            "_model_name": "ProgressStyleModel",
            "description_width": "",
            "_view_module": "@jupyter-widgets/base",
            "_model_module_version": "1.5.0",
            "_view_count": null,
            "_view_module_version": "1.2.0",
            "bar_color": null,
            "_model_module": "@jupyter-widgets/controls"
          }
        },
        "cfefd1df58c5436c9ff2846ca8ab7c7b": {
          "model_module": "@jupyter-widgets/base",
          "model_name": "LayoutModel",
          "model_module_version": "1.2.0",
          "state": {
            "_view_name": "LayoutView",
            "grid_template_rows": null,
            "right": null,
            "justify_content": null,
            "_view_module": "@jupyter-widgets/base",
            "overflow": null,
            "_model_module_version": "1.2.0",
            "_view_count": null,
            "flex_flow": null,
            "width": null,
            "min_width": null,
            "border": null,
            "align_items": null,
            "bottom": null,
            "_model_module": "@jupyter-widgets/base",
            "top": null,
            "grid_column": null,
            "overflow_y": null,
            "overflow_x": null,
            "grid_auto_flow": null,
            "grid_area": null,
            "grid_template_columns": null,
            "flex": null,
            "_model_name": "LayoutModel",
            "justify_items": null,
            "grid_row": null,
            "max_height": null,
            "align_content": null,
            "visibility": null,
            "align_self": null,
            "height": null,
            "min_height": null,
            "padding": null,
            "grid_auto_rows": null,
            "grid_gap": null,
            "max_width": null,
            "order": null,
            "_view_module_version": "1.2.0",
            "grid_template_areas": null,
            "object_position": null,
            "object_fit": null,
            "grid_auto_columns": null,
            "margin": null,
            "display": null,
            "left": null
          }
        },
        "49e71d4269164d79be4579dd1801a889": {
          "model_module": "@jupyter-widgets/controls",
          "model_name": "DescriptionStyleModel",
          "model_module_version": "1.5.0",
          "state": {
            "_view_name": "StyleView",
            "_model_name": "DescriptionStyleModel",
            "description_width": "",
            "_view_module": "@jupyter-widgets/base",
            "_model_module_version": "1.5.0",
            "_view_count": null,
            "_view_module_version": "1.2.0",
            "_model_module": "@jupyter-widgets/controls"
          }
        },
        "afcf530feb924bb293374efa0374ef2d": {
          "model_module": "@jupyter-widgets/base",
          "model_name": "LayoutModel",
          "model_module_version": "1.2.0",
          "state": {
            "_view_name": "LayoutView",
            "grid_template_rows": null,
            "right": null,
            "justify_content": null,
            "_view_module": "@jupyter-widgets/base",
            "overflow": null,
            "_model_module_version": "1.2.0",
            "_view_count": null,
            "flex_flow": null,
            "width": null,
            "min_width": null,
            "border": null,
            "align_items": null,
            "bottom": null,
            "_model_module": "@jupyter-widgets/base",
            "top": null,
            "grid_column": null,
            "overflow_y": null,
            "overflow_x": null,
            "grid_auto_flow": null,
            "grid_area": null,
            "grid_template_columns": null,
            "flex": null,
            "_model_name": "LayoutModel",
            "justify_items": null,
            "grid_row": null,
            "max_height": null,
            "align_content": null,
            "visibility": null,
            "align_self": null,
            "height": null,
            "min_height": null,
            "padding": null,
            "grid_auto_rows": null,
            "grid_gap": null,
            "max_width": null,
            "order": null,
            "_view_module_version": "1.2.0",
            "grid_template_areas": null,
            "object_position": null,
            "object_fit": null,
            "grid_auto_columns": null,
            "margin": null,
            "display": null,
            "left": null
          }
        }
      }
    }
  },
  "cells": [
    {
      "cell_type": "markdown",
      "metadata": {
        "id": "CLrkyRc6-rD5"
      },
      "source": [
        "# Adversarial Robustness Toolkit\n",
        "\n"
      ]
    },
    {
      "cell_type": "markdown",
      "metadata": {
        "id": "JgG8sFK-sd1z"
      },
      "source": [
        "* Documentación: https://adversarial-robustness-toolbox.readthedocs.io/en/latest/\n",
        "* Código: https://github.com/Trusted-AI/adversarial-robustness-toolbox\n",
        "* Ejemplos: https://github.com/Trusted-AI/adversarial-robustness-toolbox/tree/main/examples"
      ]
    },
    {
      "cell_type": "markdown",
      "metadata": {
        "id": "NuoZ5bhE-2_0"
      },
      "source": [
        "## Instalación"
      ]
    },
    {
      "cell_type": "code",
      "metadata": {
        "id": "Zua3aciV-O5K",
        "colab": {
          "base_uri": "https://localhost:8080/"
        },
        "outputId": "d0ce8781-752a-40a8-ac68-c16e5bbc9197"
      },
      "source": [
        "!pip install adversarial-robustness-toolbox==1.8.1"
      ],
      "execution_count": 1,
      "outputs": [
        {
          "output_type": "stream",
          "name": "stdout",
          "text": [
            "Requirement already satisfied: adversarial-robustness-toolbox==1.8.1 in /usr/local/lib/python3.7/dist-packages (1.8.1)\n",
            "Requirement already satisfied: six in /usr/local/lib/python3.7/dist-packages (from adversarial-robustness-toolbox==1.8.1) (1.15.0)\n",
            "Requirement already satisfied: setuptools in /usr/local/lib/python3.7/dist-packages (from adversarial-robustness-toolbox==1.8.1) (57.4.0)\n",
            "Requirement already satisfied: numpy>=1.18.0 in /usr/local/lib/python3.7/dist-packages (from adversarial-robustness-toolbox==1.8.1) (1.19.5)\n",
            "Requirement already satisfied: scikit-learn<1.1.0,>=0.22.2 in /usr/local/lib/python3.7/dist-packages (from adversarial-robustness-toolbox==1.8.1) (0.22.2.post1)\n",
            "Requirement already satisfied: numba>=0.53.1 in /usr/local/lib/python3.7/dist-packages (from adversarial-robustness-toolbox==1.8.1) (0.54.1)\n",
            "Requirement already satisfied: scipy>=1.4.1 in /usr/local/lib/python3.7/dist-packages (from adversarial-robustness-toolbox==1.8.1) (1.4.1)\n",
            "Requirement already satisfied: tqdm in /usr/local/lib/python3.7/dist-packages (from adversarial-robustness-toolbox==1.8.1) (4.62.3)\n",
            "Requirement already satisfied: llvmlite<0.38,>=0.37.0rc1 in /usr/local/lib/python3.7/dist-packages (from numba>=0.53.1->adversarial-robustness-toolbox==1.8.1) (0.37.0)\n",
            "Requirement already satisfied: joblib>=0.11 in /usr/local/lib/python3.7/dist-packages (from scikit-learn<1.1.0,>=0.22.2->adversarial-robustness-toolbox==1.8.1) (1.1.0)\n"
          ]
        }
      ]
    },
    {
      "cell_type": "code",
      "metadata": {
        "id": "1M8cmX6Y_MaU"
      },
      "source": [
        "import keras\n",
        "from keras.models import Sequential\n",
        "from keras.layers import Dense, Flatten, Conv2D, MaxPooling2D\n",
        "import numpy as np\n",
        "import matplotlib.pyplot as plt\n",
        "from art.utils import load_mnist"
      ],
      "execution_count": 2,
      "outputs": []
    },
    {
      "cell_type": "code",
      "metadata": {
        "id": "3JSlG18GC1RT"
      },
      "source": [
        "import tensorflow as tf\n",
        "tf.compat.v1.disable_eager_execution()\n",
        "\n",
        "import warnings\n",
        "warnings.filterwarnings('ignore')"
      ],
      "execution_count": 3,
      "outputs": []
    },
    {
      "cell_type": "code",
      "metadata": {
        "id": "6k-Q4bnG_SWG"
      },
      "source": [
        "%matplotlib inline"
      ],
      "execution_count": 4,
      "outputs": []
    },
    {
      "cell_type": "markdown",
      "metadata": {
        "id": "rYWQUSRC_WLT"
      },
      "source": [
        "## Cargar datos"
      ]
    },
    {
      "cell_type": "code",
      "metadata": {
        "id": "hq1wjOgu_a1U"
      },
      "source": [
        "(x_train, y_train), (x_test, y_test), min_pixel_value, max_pixel_value = load_mnist()"
      ],
      "execution_count": 5,
      "outputs": []
    },
    {
      "cell_type": "markdown",
      "metadata": {
        "id": "gGp89T6o_s3M"
      },
      "source": [
        "## Entrenar modelo"
      ]
    },
    {
      "cell_type": "code",
      "metadata": {
        "id": "gTOks8pDAObr"
      },
      "source": [
        "from art.estimators.classification import KerasClassifier"
      ],
      "execution_count": 6,
      "outputs": []
    },
    {
      "cell_type": "code",
      "metadata": {
        "id": "IwvRBqtoARMM",
        "colab": {
          "base_uri": "https://localhost:8080/"
        },
        "outputId": "f0fcc16c-b2b0-45bf-824e-16578dd0bc1d"
      },
      "source": [
        "model = Sequential()\n",
        "model.add(Conv2D(filters=4, kernel_size=(5, 5), strides=1, activation=\"relu\", input_shape=(28, 28, 1)))\n",
        "model.add(MaxPooling2D(pool_size=(2, 2)))\n",
        "model.add(Conv2D(filters=10, kernel_size=(5, 5), strides=1, activation=\"relu\", input_shape=(23, 23, 4)))\n",
        "model.add(MaxPooling2D(pool_size=(2, 2)))\n",
        "model.add(Flatten())\n",
        "model.add(Dense(100, activation=\"relu\"))\n",
        "model.add(Dense(10, activation=\"softmax\"))\n",
        "\n",
        "model.compile(loss=keras.losses.categorical_crossentropy, optimizer=tf.keras.optimizers.Adam(lr=0.01), metrics=[\"accuracy\"])\n",
        "classifier = KerasClassifier(model=model, clip_values=(min_pixel_value, max_pixel_value), use_logits=False)\n",
        "\n",
        "classifier.fit(x_train, y_train, batch_size=64, nb_epochs=3)"
      ],
      "execution_count": 7,
      "outputs": [
        {
          "output_type": "stream",
          "name": "stdout",
          "text": [
            "Train on 60000 samples\n",
            "Epoch 1/3\n",
            "60000/60000 [==============================] - 33s 558us/sample - loss: 0.1442 - accuracy: 0.9556\n",
            "Epoch 2/3\n",
            "60000/60000 [==============================] - 4s 69us/sample - loss: 0.0817 - accuracy: 0.9754\n",
            "Epoch 3/3\n",
            "60000/60000 [==============================] - 4s 70us/sample - loss: 0.0704 - accuracy: 0.9793\n"
          ]
        }
      ]
    },
    {
      "cell_type": "code",
      "metadata": {
        "id": "HoS7HK-8ATSa",
        "colab": {
          "base_uri": "https://localhost:8080/"
        },
        "outputId": "e71b0178-b906-4fa6-9d4c-861a94011a8a"
      },
      "source": [
        "predictions_test = classifier.predict(x_test)\n",
        "accuracy = np.sum(np.argmax(predictions_test, axis=1) == np.argmax(y_test, axis=1)) / len(y_test)\n",
        "print(\"Accuracy on test examples: {0:.2f}%\".format(accuracy * 100))"
      ],
      "execution_count": 8,
      "outputs": [
        {
          "output_type": "stream",
          "name": "stdout",
          "text": [
            "Accuracy on test examples: 97.58%\n"
          ]
        }
      ]
    },
    {
      "cell_type": "markdown",
      "metadata": {
        "id": "8RjSGz4MAa5n"
      },
      "source": [
        "# Ataques de evasión"
      ]
    },
    {
      "cell_type": "markdown",
      "metadata": {
        "id": "SR-gnZi-Jp0S"
      },
      "source": [
        "## Generar ejemplos adversarios"
      ]
    },
    {
      "cell_type": "code",
      "metadata": {
        "id": "LzFU47WnAd9T"
      },
      "source": [
        "from art.attacks.evasion import FastGradientMethod, SaliencyMapMethod, CarliniL2Method"
      ],
      "execution_count": 9,
      "outputs": []
    },
    {
      "cell_type": "code",
      "metadata": {
        "id": "QH6qevlrAkGh"
      },
      "source": [
        "attack_fgm = FastGradientMethod(estimator = classifier, eps = 0.2)\n",
        "x_test_fgm = attack_fgm.generate(x=x_test)"
      ],
      "execution_count": 10,
      "outputs": []
    },
    {
      "cell_type": "code",
      "metadata": {
        "id": "awFmtipPFFla",
        "colab": {
          "base_uri": "https://localhost:8080/"
        },
        "outputId": "17ad8e62-ebe1-454b-aef2-77e115857519"
      },
      "source": [
        "predictions_test = classifier.predict(x_test_fgm)\n",
        "accuracy = np.sum(np.argmax(predictions_test, axis=1) == np.argmax(y_test, axis=1)) / len(y_test)\n",
        "print(\"Accuracy on test adversarial examples: {0:.2f}%\".format(accuracy * 100))"
      ],
      "execution_count": 11,
      "outputs": [
        {
          "output_type": "stream",
          "name": "stdout",
          "text": [
            "Accuracy on test adversarial examples: 34.61%\n"
          ]
        }
      ]
    },
    {
      "cell_type": "markdown",
      "metadata": {
        "id": "THJtvETx17eH"
      },
      "source": [
        "## Ataque no dirigido"
      ]
    },
    {
      "cell_type": "code",
      "metadata": {
        "id": "gYmcNjfG8Ypr",
        "colab": {
          "base_uri": "https://localhost:8080/"
        },
        "outputId": "63b098a2-1f67-4208-c675-8829a1c06d2e"
      },
      "source": [
        "# Ataque no dirigido\n",
        "best = (100, 0, None, None) # (acc, eps, x_test_fgm, predictions)\n",
        "for eps in np.arange(0.0, 1.0, 0.1):\n",
        "  attack_fgm = FastGradientMethod(estimator = classifier, eps = eps)\n",
        "  x_test_fgm = attack_fgm.generate(x=x_test)\n",
        "  predictions_test = classifier.predict(x_test_fgm)\n",
        "  accuracy = np.sum(np.argmax(predictions_test, axis=1) == np.argmax(y_test, axis=1)) / len(y_test)\n",
        "  if(accuracy < best[0]):\n",
        "    best = (accuracy, eps, x_test_fgm, predictions_test)\n",
        "  print(\"Accuracy on test adversarial examples: {:.2f}% (eps={:.2f})\".format(accuracy * 100, eps))\n",
        "print(\"Best results: accuracy: {:.2f}%  eps={:.2f}\".format(best[0] * 100, best[1]))"
      ],
      "execution_count": 12,
      "outputs": [
        {
          "output_type": "stream",
          "name": "stdout",
          "text": [
            "Accuracy on test adversarial examples: 97.58% (eps=0.00)\n",
            "Accuracy on test adversarial examples: 63.70% (eps=0.10)\n",
            "Accuracy on test adversarial examples: 34.61% (eps=0.20)\n",
            "Accuracy on test adversarial examples: 23.49% (eps=0.30)\n",
            "Accuracy on test adversarial examples: 17.47% (eps=0.40)\n",
            "Accuracy on test adversarial examples: 13.75% (eps=0.50)\n",
            "Accuracy on test adversarial examples: 12.50% (eps=0.60)\n",
            "Accuracy on test adversarial examples: 13.04% (eps=0.70)\n",
            "Accuracy on test adversarial examples: 13.61% (eps=0.80)\n",
            "Accuracy on test adversarial examples: 14.29% (eps=0.90)\n",
            "Best results: accuracy: 12.50%  eps=0.60\n"
          ]
        }
      ]
    },
    {
      "cell_type": "markdown",
      "metadata": {
        "id": "noyhMckN1_JK"
      },
      "source": [
        "## Ataque dirigido"
      ]
    },
    {
      "cell_type": "code",
      "metadata": {
        "id": "ZWISeIXx-0sy",
        "colab": {
          "base_uri": "https://localhost:8080/"
        },
        "outputId": "c7b2e00f-b4d2-4418-8979-5f6b74d3eb4a"
      },
      "source": [
        "# Ataque dirigido\n",
        "best_targeted = (100, 0, None, None) # (acc, eps, x_test_fgm, predictions)\n",
        "for eps in np.arange(0.0, 1.0, 0.1):\n",
        "  attack_fgm = FastGradientMethod(estimator = classifier, eps = eps, targeted=True)\n",
        "  x_test_fgm = attack_fgm.generate(x=x_test, y=y_test)\n",
        "  predictions_test = classifier.predict(x_test_fgm)\n",
        "  accuracy = np.sum(np.argmax(predictions_test, axis=1) == np.argmax(y_test, axis=1)) / len(y_test)\n",
        "  if(accuracy < best_targeted[0]):\n",
        "    best_targeted = (accuracy, eps, x_test_fgm, predictions_test)\n",
        "  print(\"Accuracy on test adversarial examples: {:.2f}% (eps={:.2f})\".format(accuracy * 100, eps))\n",
        "print(\"Best results (targeted): accuracy: {:.2f}%  eps={:.2f}\".format(best_targeted[0] * 100, best_targeted[1]))"
      ],
      "execution_count": 13,
      "outputs": [
        {
          "output_type": "stream",
          "name": "stdout",
          "text": [
            "Accuracy on test adversarial examples: 97.58% (eps=0.00)\n",
            "Accuracy on test adversarial examples: 99.91% (eps=0.10)\n",
            "Accuracy on test adversarial examples: 99.55% (eps=0.20)\n",
            "Accuracy on test adversarial examples: 97.82% (eps=0.30)\n",
            "Accuracy on test adversarial examples: 95.15% (eps=0.40)\n",
            "Accuracy on test adversarial examples: 90.58% (eps=0.50)\n",
            "Accuracy on test adversarial examples: 82.76% (eps=0.60)\n",
            "Accuracy on test adversarial examples: 73.06% (eps=0.70)\n",
            "Accuracy on test adversarial examples: 63.10% (eps=0.80)\n",
            "Accuracy on test adversarial examples: 53.72% (eps=0.90)\n",
            "Best results (targeted): accuracy: 53.72%  eps=0.90\n"
          ]
        }
      ]
    },
    {
      "cell_type": "code",
      "metadata": {
        "id": "udwfxbJoE9hM",
        "colab": {
          "base_uri": "https://localhost:8080/",
          "height": 290
        },
        "outputId": "2aa62a6b-ac77-4043-958d-05453b582ce0"
      },
      "source": [
        "sample = 0\n",
        "fig = plt.figure(figsize=(20,10))\n",
        "ax = fig.add_subplot(1, 4, 1)\n",
        "ax.imshow(x_test[sample].reshape((28, 28)), cmap='gray', interpolation='none')\n",
        "ax.set_title(\"Original: {}\".format(np.argmax(y_test[sample])))\n",
        "ax.axis('off')\n",
        "ax = fig.add_subplot(1, 4, 2)\n",
        "ax.imshow(best[2][sample].reshape((28, 28)), cmap='gray', interpolation='none')\n",
        "ax.set_title(\"Adversarial (FGSM): {}\".format(np.argmax(best[3][sample])))\n",
        "ax.axis('off')\n",
        "ax = fig.add_subplot(1, 4, 3)\n",
        "ax.imshow(best_targeted[2][sample].reshape((28, 28)), cmap='gray', interpolation='none')\n",
        "ax.set_title(\"Adversarial (FGSM - targeted): {}\".format(np.argmax(best_targeted[3][sample])))\n",
        "ax.axis('off')\n",
        "fig.show()"
      ],
      "execution_count": 14,
      "outputs": [
        {
          "output_type": "display_data",
          "data": {
            "image/png": "[encoded data removed]",
            "text/plain": [
              "<Figure size 1440x720 with 3 Axes>"
            ]
          },
          "metadata": {
            "needs_background": "light"
          }
        }
      ]
    },
    {
      "cell_type": "markdown",
      "metadata": {
        "id": "O_GYhKOCB6SS"
      },
      "source": [
        "## Otros métodos de ataque"
      ]
    },
    {
      "cell_type": "code",
      "metadata": {
        "id": "9w5pLUQrAo4e"
      },
      "source": [
        "# Más métodos se pueden encontrar en \n",
        "# https://adversarial-robustness-toolbox.readthedocs.io/en/latest/modules/attacks/evasion.html\n",
        "\n",
        "# Estos métodos tardan bastante más tiempo en ejecutar.\n",
        "\n",
        "# JSMA\n",
        "# attack_jsma = SaliencyMapMethod(classifier = classifier, theta = 0.1)\n",
        "# x_test_jsma = attack_jsma.generate(x=x_test)\n",
        "\n",
        "# Carlini&Wagner\n",
        "# attack_cw2 = CarliniL2Method(classifier = classifier)\n",
        "# x_test_cw2 = attack_cw2.generate(x=x_test)"
      ],
      "execution_count": 15,
      "outputs": []
    },
    {
      "cell_type": "markdown",
      "metadata": {
        "id": "bXZyqv27Ag9N"
      },
      "source": [
        "## Entrenamiento adversario"
      ]
    },
    {
      "cell_type": "code",
      "metadata": {
        "id": "lmH04l3D3wlr"
      },
      "source": [
        "(x_train, y_train), (x_test, y_test), min_pixel_value, max_pixel_value = load_mnist()"
      ],
      "execution_count": 16,
      "outputs": []
    },
    {
      "cell_type": "code",
      "metadata": {
        "id": "hZtOAlI5BGX2"
      },
      "source": [
        "attack_fgm = FastGradientMethod(estimator = classifier, eps = 0.2)\n",
        "x_train_fgm = attack_fgm.generate(x=x_train)\n",
        "x_test_fgm = attack_fgm.generate(x=x_test)"
      ],
      "execution_count": 17,
      "outputs": []
    },
    {
      "cell_type": "code",
      "metadata": {
        "id": "BggbW6KoBJNk"
      },
      "source": [
        "x_train = np.append(x_train, x_train_fgm, axis=0)\n",
        "y_train = np.append(y_train, y_train, axis=0)"
      ],
      "execution_count": 18,
      "outputs": []
    },
    {
      "cell_type": "code",
      "metadata": {
        "id": "IOdjNpvJBLIz",
        "colab": {
          "base_uri": "https://localhost:8080/"
        },
        "outputId": "6413573a-8c36-49f3-d476-bdda15707a24"
      },
      "source": [
        "model.compile(loss=keras.losses.categorical_crossentropy, optimizer=tf.keras.optimizers.Adam(lr=0.01), metrics=[\"accuracy\"])\n",
        "\n",
        "classifier.fit(x_train, y_train, batch_size=64, nb_epochs=3)"
      ],
      "execution_count": 19,
      "outputs": [
        {
          "output_type": "stream",
          "name": "stdout",
          "text": [
            "Train on 120000 samples\n",
            "Epoch 1/3\n",
            "120000/120000 [==============================] - 9s 72us/sample - loss: 0.1409 - accuracy: 0.9568\n",
            "Epoch 2/3\n",
            "120000/120000 [==============================] - 8s 70us/sample - loss: 0.1031 - accuracy: 0.9689\n",
            "Epoch 3/3\n",
            "120000/120000 [==============================] - 8s 70us/sample - loss: 0.0920 - accuracy: 0.9718\n"
          ]
        }
      ]
    },
    {
      "cell_type": "code",
      "metadata": {
        "id": "2WLDCQoIBRiT",
        "colab": {
          "base_uri": "https://localhost:8080/"
        },
        "outputId": "5a27e14a-4dec-48d0-b83d-b334016bdfca"
      },
      "source": [
        "predictions_test = classifier.predict(x_test)\n",
        "accuracy = np.sum(np.argmax(predictions_test, axis=1) == np.argmax(y_test, axis=1)) / len(y_test)\n",
        "print(\"Accuracy on test examples: {0:.2f}%\".format(accuracy * 100))\n",
        "\n",
        "predictions_fsm = classifier.predict(x_test_fgm)\n",
        "accuracy = np.sum(np.argmax(predictions_fsm, axis=1) == np.argmax(y_test, axis=1)) / len(y_test)\n",
        "print(\"Accuracy on adversarial test examples for FSGM attack: {0:.2f}%\".format(accuracy * 100))"
      ],
      "execution_count": 20,
      "outputs": [
        {
          "output_type": "stream",
          "name": "stdout",
          "text": [
            "Accuracy on test examples: 97.92%\n",
            "Accuracy on adversarial test examples for FSGM attack: 96.14%\n"
          ]
        }
      ]
    },
    {
      "cell_type": "markdown",
      "metadata": {
        "id": "FaoK60dJcHcy"
      },
      "source": [
        "## Entrenamiento adversario de forma nativa"
      ]
    },
    {
      "cell_type": "code",
      "metadata": {
        "id": "brtrAWaCUSmz"
      },
      "source": [
        "from art.defences.trainer import AdversarialTrainer"
      ],
      "execution_count": 21,
      "outputs": []
    },
    {
      "cell_type": "code",
      "metadata": {
        "id": "AE_5ZSKLUuCu"
      },
      "source": [
        "model.compile(loss=keras.losses.categorical_crossentropy, optimizer=tf.keras.optimizers.Adam(lr=0.01), metrics=[\"accuracy\"])"
      ],
      "execution_count": 22,
      "outputs": []
    },
    {
      "cell_type": "code",
      "metadata": {
        "id": "7zL6s6qfUZ4Y"
      },
      "source": [
        "defence = AdversarialTrainer(classifier=classifier, attacks=attack_fgm, ratio=0.5)"
      ],
      "execution_count": 23,
      "outputs": []
    },
    {
      "cell_type": "code",
      "metadata": {
        "id": "TXRJQTipVFuu"
      },
      "source": [
        "(x_train, y_train), (x_test, y_test), min_pixel_value, max_pixel_value = load_mnist()"
      ],
      "execution_count": 24,
      "outputs": []
    },
    {
      "cell_type": "code",
      "metadata": {
        "id": "ww6WB1BjU59K",
        "colab": {
          "base_uri": "https://localhost:8080/",
          "height": 81,
          "referenced_widgets": [
            "91fceb9a4983484ab8b9ddc34d49820d",
            "29491a513de544cb937fc93b36d3507e",
            "0224291c8dc941268eab317372e96454",
            "52882fb6a0cb476ea6f7f39eae26cc4b",
            "ac15796f6f6e45689e3a338885483ca7",
            "1082ecd5711e4b1c8e73bbc77b4246be",
            "a32d954217b144888b3aeb3695beb8ce",
            "08ccf811d11140fb920bc1a1db2a6bf3",
            "93004c7a02c84417bb80a6e86c97c5ca",
            "03d5c96ef86741318402ef94ff279450",
            "e2a1cc8d88464e0ea501d1901a2cc53a",
            "32177be2cabb4a2ab044446dae4c9121",
            "467d7d8dc7ba4e50b930795afa2b758e",
            "83c994127e88447d874017e064723f56",
            "101085ef01e0497a8ca13d203a41ec21",
            "e60a0361f429438487a0acee89ddd68a",
            "80c14bc5ee9242a495b297f427edbec9",
            "6ce646b5ffd24dc2a9836d952d984e1b",
            "c2d32d4d134641c68545e3bc397e9d1c",
            "cfefd1df58c5436c9ff2846ca8ab7c7b",
            "49e71d4269164d79be4579dd1801a889",
            "afcf530feb924bb293374efa0374ef2d"
          ]
        },
        "outputId": "0d866390-ce9e-4f09-cba4-2671cfb9b5f1"
      },
      "source": [
        "defence.fit(x=x_train, y=y_train, nb_epochs=3)"
      ],
      "execution_count": 25,
      "outputs": [
        {
          "output_type": "display_data",
          "data": {
            "application/vnd.jupyter.widget-view+json": {
              "model_id": "91fceb9a4983484ab8b9ddc34d49820d",
              "version_minor": 0,
              "version_major": 2
            },
            "text/plain": [
              "Precompute adv samples:   0%|          | 0/1 [00:00<?, ?it/s]"
            ]
          },
          "metadata": {}
        },
        {
          "output_type": "display_data",
          "data": {
            "application/vnd.jupyter.widget-view+json": {
              "model_id": "32177be2cabb4a2ab044446dae4c9121",
              "version_minor": 0,
              "version_major": 2
            },
            "text/plain": [
              "Adversarial training epochs:   0%|          | 0/3 [00:00<?, ?it/s]"
            ]
          },
          "metadata": {}
        }
      ]
    },
    {
      "cell_type": "code",
      "metadata": {
        "id": "60HDLfwbVOiV",
        "colab": {
          "base_uri": "https://localhost:8080/"
        },
        "outputId": "a7de06e4-94aa-4e22-f452-7158d57804a5"
      },
      "source": [
        "predictions_test = classifier.predict(x_test)\n",
        "accuracy = np.sum(np.argmax(predictions_test, axis=1) == np.argmax(y_test, axis=1)) / len(y_test)\n",
        "print(\"Accuracy on test examples: {}%\".format(accuracy * 100))\n",
        "\n",
        "predictions_fgm = defence.predict(x_test_fgm)\n",
        "accuracy = np.sum(np.argmax(predictions_fgm, axis=1) == np.argmax(y_test, axis=1)) / len(y_test)\n",
        "print(\"Accuracy on adversarial test examples for FGM attack: {}%\".format(accuracy * 100))"
      ],
      "execution_count": 26,
      "outputs": [
        {
          "output_type": "stream",
          "name": "stdout",
          "text": [
            "Accuracy on test examples: 97.44%\n",
            "Accuracy on adversarial test examples for FGM attack: 95.72%\n"
          ]
        }
      ]
    }
  ]
}