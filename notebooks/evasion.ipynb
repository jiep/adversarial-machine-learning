{
  "nbformat": 4,
  "nbformat_minor": 0,
  "metadata": {
    "colab": {
      "name": "evasion",
      "provenance": [],
      "collapsed_sections": []
    },
    "kernelspec": {
      "name": "python3",
      "display_name": "Python 3"
    },
    "accelerator": "GPU",
    "widgets": {
      "application/vnd.jupyter.widget-state+json": {
        "a8b225a7fcdb40fbac67e026e6e02a62": {
          "model_module": "@jupyter-widgets/controls",
          "model_name": "HBoxModel",
          "model_module_version": "1.5.0",
          "state": {
            "_view_name": "HBoxView",
            "_dom_classes": [],
            "_model_name": "HBoxModel",
            "_view_module": "@jupyter-widgets/controls",
            "_model_module_version": "1.5.0",
            "_view_count": null,
            "_view_module_version": "1.5.0",
            "box_style": "",
            "layout": "IPY_MODEL_e23f6d50ce1b4fe88fc3445773d12786",
            "_model_module": "@jupyter-widgets/controls",
            "children": [
              "IPY_MODEL_7f1882f880e648669d8b44217c269294",
              "IPY_MODEL_9a187691f9fa4d4eb7bb6a2a6f6eb53c",
              "IPY_MODEL_0894d24f85c741e3ac3e96ccacae033a"
            ]
          }
        },
        "e23f6d50ce1b4fe88fc3445773d12786": {
          "model_module": "@jupyter-widgets/base",
          "model_name": "LayoutModel",
          "model_module_version": "1.2.0",
          "state": {
            "_view_name": "LayoutView",
            "grid_template_rows": null,
            "right": null,
            "justify_content": null,
            "_view_module": "@jupyter-widgets/base",
            "overflow": null,
            "_model_module_version": "1.2.0",
            "_view_count": null,
            "flex_flow": null,
            "width": null,
            "min_width": null,
            "border": null,
            "align_items": null,
            "bottom": null,
            "_model_module": "@jupyter-widgets/base",
            "top": null,
            "grid_column": null,
            "overflow_y": null,
            "overflow_x": null,
            "grid_auto_flow": null,
            "grid_area": null,
            "grid_template_columns": null,
            "flex": null,
            "_model_name": "LayoutModel",
            "justify_items": null,
            "grid_row": null,
            "max_height": null,
            "align_content": null,
            "visibility": null,
            "align_self": null,
            "height": null,
            "min_height": null,
            "padding": null,
            "grid_auto_rows": null,
            "grid_gap": null,
            "max_width": null,
            "order": null,
            "_view_module_version": "1.2.0",
            "grid_template_areas": null,
            "object_position": null,
            "object_fit": null,
            "grid_auto_columns": null,
            "margin": null,
            "display": null,
            "left": null
          }
        },
        "7f1882f880e648669d8b44217c269294": {
          "model_module": "@jupyter-widgets/controls",
          "model_name": "HTMLModel",
          "model_module_version": "1.5.0",
          "state": {
            "_view_name": "HTMLView",
            "style": "IPY_MODEL_38736de27d7a43289b51bcc742b81a41",
            "_dom_classes": [],
            "description": "",
            "_model_name": "HTMLModel",
            "placeholder": "​",
            "_view_module": "@jupyter-widgets/controls",
            "_model_module_version": "1.5.0",
            "value": "Precompute adv samples: 100%",
            "_view_count": null,
            "_view_module_version": "1.5.0",
            "description_tooltip": null,
            "_model_module": "@jupyter-widgets/controls",
            "layout": "IPY_MODEL_d8e2b3b089b54948b93aaf3e3e340f42"
          }
        },
        "9a187691f9fa4d4eb7bb6a2a6f6eb53c": {
          "model_module": "@jupyter-widgets/controls",
          "model_name": "FloatProgressModel",
          "model_module_version": "1.5.0",
          "state": {
            "_view_name": "ProgressView",
            "style": "IPY_MODEL_63ff352f4d504b1f9c172b1b364bf877",
            "_dom_classes": [],
            "description": "",
            "_model_name": "FloatProgressModel",
            "bar_style": "success",
            "max": 1,
            "_view_module": "@jupyter-widgets/controls",
            "_model_module_version": "1.5.0",
            "value": 1,
            "_view_count": null,
            "_view_module_version": "1.5.0",
            "orientation": "horizontal",
            "min": 0,
            "description_tooltip": null,
            "_model_module": "@jupyter-widgets/controls",
            "layout": "IPY_MODEL_7ff503789c3746d2966fb366ab1d64a4"
          }
        },
        "0894d24f85c741e3ac3e96ccacae033a": {
          "model_module": "@jupyter-widgets/controls",
          "model_name": "HTMLModel",
          "model_module_version": "1.5.0",
          "state": {
            "_view_name": "HTMLView",
            "style": "IPY_MODEL_32757c343a16412eafb4fe25c782cb41",
            "_dom_classes": [],
            "description": "",
            "_model_name": "HTMLModel",
            "placeholder": "​",
            "_view_module": "@jupyter-widgets/controls",
            "_model_module_version": "1.5.0",
            "value": " 1/1 [00:00&lt;00:00, 23.51it/s]",
            "_view_count": null,
            "_view_module_version": "1.5.0",
            "description_tooltip": null,
            "_model_module": "@jupyter-widgets/controls",
            "layout": "IPY_MODEL_a5b43a5288ba41b898f815fe145a4eba"
          }
        },
        "38736de27d7a43289b51bcc742b81a41": {
          "model_module": "@jupyter-widgets/controls",
          "model_name": "DescriptionStyleModel",
          "model_module_version": "1.5.0",
          "state": {
            "_view_name": "StyleView",
            "_model_name": "DescriptionStyleModel",
            "description_width": "",
            "_view_module": "@jupyter-widgets/base",
            "_model_module_version": "1.5.0",
            "_view_count": null,
            "_view_module_version": "1.2.0",
            "_model_module": "@jupyter-widgets/controls"
          }
        },
        "d8e2b3b089b54948b93aaf3e3e340f42": {
          "model_module": "@jupyter-widgets/base",
          "model_name": "LayoutModel",
          "model_module_version": "1.2.0",
          "state": {
            "_view_name": "LayoutView",
            "grid_template_rows": null,
            "right": null,
            "justify_content": null,
            "_view_module": "@jupyter-widgets/base",
            "overflow": null,
            "_model_module_version": "1.2.0",
            "_view_count": null,
            "flex_flow": null,
            "width": null,
            "min_width": null,
            "border": null,
            "align_items": null,
            "bottom": null,
            "_model_module": "@jupyter-widgets/base",
            "top": null,
            "grid_column": null,
            "overflow_y": null,
            "overflow_x": null,
            "grid_auto_flow": null,
            "grid_area": null,
            "grid_template_columns": null,
            "flex": null,
            "_model_name": "LayoutModel",
            "justify_items": null,
            "grid_row": null,
            "max_height": null,
            "align_content": null,
            "visibility": null,
            "align_self": null,
            "height": null,
            "min_height": null,
            "padding": null,
            "grid_auto_rows": null,
            "grid_gap": null,
            "max_width": null,
            "order": null,
            "_view_module_version": "1.2.0",
            "grid_template_areas": null,
            "object_position": null,
            "object_fit": null,
            "grid_auto_columns": null,
            "margin": null,
            "display": null,
            "left": null
          }
        },
        "63ff352f4d504b1f9c172b1b364bf877": {
          "model_module": "@jupyter-widgets/controls",
          "model_name": "ProgressStyleModel",
          "model_module_version": "1.5.0",
          "state": {
            "_view_name": "StyleView",
            "_model_name": "ProgressStyleModel",
            "description_width": "",
            "_view_module": "@jupyter-widgets/base",
            "_model_module_version": "1.5.0",
            "_view_count": null,
            "_view_module_version": "1.2.0",
            "bar_color": null,
            "_model_module": "@jupyter-widgets/controls"
          }
        },
        "7ff503789c3746d2966fb366ab1d64a4": {
          "model_module": "@jupyter-widgets/base",
          "model_name": "LayoutModel",
          "model_module_version": "1.2.0",
          "state": {
            "_view_name": "LayoutView",
            "grid_template_rows": null,
            "right": null,
            "justify_content": null,
            "_view_module": "@jupyter-widgets/base",
            "overflow": null,
            "_model_module_version": "1.2.0",
            "_view_count": null,
            "flex_flow": null,
            "width": null,
            "min_width": null,
            "border": null,
            "align_items": null,
            "bottom": null,
            "_model_module": "@jupyter-widgets/base",
            "top": null,
            "grid_column": null,
            "overflow_y": null,
            "overflow_x": null,
            "grid_auto_flow": null,
            "grid_area": null,
            "grid_template_columns": null,
            "flex": null,
            "_model_name": "LayoutModel",
            "justify_items": null,
            "grid_row": null,
            "max_height": null,
            "align_content": null,
            "visibility": null,
            "align_self": null,
            "height": null,
            "min_height": null,
            "padding": null,
            "grid_auto_rows": null,
            "grid_gap": null,
            "max_width": null,
            "order": null,
            "_view_module_version": "1.2.0",
            "grid_template_areas": null,
            "object_position": null,
            "object_fit": null,
            "grid_auto_columns": null,
            "margin": null,
            "display": null,
            "left": null
          }
        },
        "32757c343a16412eafb4fe25c782cb41": {
          "model_module": "@jupyter-widgets/controls",
          "model_name": "DescriptionStyleModel",
          "model_module_version": "1.5.0",
          "state": {
            "_view_name": "StyleView",
            "_model_name": "DescriptionStyleModel",
            "description_width": "",
            "_view_module": "@jupyter-widgets/base",
            "_model_module_version": "1.5.0",
            "_view_count": null,
            "_view_module_version": "1.2.0",
            "_model_module": "@jupyter-widgets/controls"
          }
        },
        "a5b43a5288ba41b898f815fe145a4eba": {
          "model_module": "@jupyter-widgets/base",
          "model_name": "LayoutModel",
          "model_module_version": "1.2.0",
          "state": {
            "_view_name": "LayoutView",
            "grid_template_rows": null,
            "right": null,
            "justify_content": null,
            "_view_module": "@jupyter-widgets/base",
            "overflow": null,
            "_model_module_version": "1.2.0",
            "_view_count": null,
            "flex_flow": null,
            "width": null,
            "min_width": null,
            "border": null,
            "align_items": null,
            "bottom": null,
            "_model_module": "@jupyter-widgets/base",
            "top": null,
            "grid_column": null,
            "overflow_y": null,
            "overflow_x": null,
            "grid_auto_flow": null,
            "grid_area": null,
            "grid_template_columns": null,
            "flex": null,
            "_model_name": "LayoutModel",
            "justify_items": null,
            "grid_row": null,
            "max_height": null,
            "align_content": null,
            "visibility": null,
            "align_self": null,
            "height": null,
            "min_height": null,
            "padding": null,
            "grid_auto_rows": null,
            "grid_gap": null,
            "max_width": null,
            "order": null,
            "_view_module_version": "1.2.0",
            "grid_template_areas": null,
            "object_position": null,
            "object_fit": null,
            "grid_auto_columns": null,
            "margin": null,
            "display": null,
            "left": null
          }
        },
        "84b960e8a952488e906bf55c5c51748a": {
          "model_module": "@jupyter-widgets/controls",
          "model_name": "HBoxModel",
          "model_module_version": "1.5.0",
          "state": {
            "_view_name": "HBoxView",
            "_dom_classes": [],
            "_model_name": "HBoxModel",
            "_view_module": "@jupyter-widgets/controls",
            "_model_module_version": "1.5.0",
            "_view_count": null,
            "_view_module_version": "1.5.0",
            "box_style": "",
            "layout": "IPY_MODEL_d039d3c272ec4bf4bc471a0aff1fe0d9",
            "_model_module": "@jupyter-widgets/controls",
            "children": [
              "IPY_MODEL_1b375ca4bc4e48c09f98694d8f69ffbe",
              "IPY_MODEL_da47efe7980b47aa9ad76af65056500d",
              "IPY_MODEL_4c4ade1847304131a0dcd8afd2d326a7"
            ]
          }
        },
        "d039d3c272ec4bf4bc471a0aff1fe0d9": {
          "model_module": "@jupyter-widgets/base",
          "model_name": "LayoutModel",
          "model_module_version": "1.2.0",
          "state": {
            "_view_name": "LayoutView",
            "grid_template_rows": null,
            "right": null,
            "justify_content": null,
            "_view_module": "@jupyter-widgets/base",
            "overflow": null,
            "_model_module_version": "1.2.0",
            "_view_count": null,
            "flex_flow": null,
            "width": null,
            "min_width": null,
            "border": null,
            "align_items": null,
            "bottom": null,
            "_model_module": "@jupyter-widgets/base",
            "top": null,
            "grid_column": null,
            "overflow_y": null,
            "overflow_x": null,
            "grid_auto_flow": null,
            "grid_area": null,
            "grid_template_columns": null,
            "flex": null,
            "_model_name": "LayoutModel",
            "justify_items": null,
            "grid_row": null,
            "max_height": null,
            "align_content": null,
            "visibility": null,
            "align_self": null,
            "height": null,
            "min_height": null,
            "padding": null,
            "grid_auto_rows": null,
            "grid_gap": null,
            "max_width": null,
            "order": null,
            "_view_module_version": "1.2.0",
            "grid_template_areas": null,
            "object_position": null,
            "object_fit": null,
            "grid_auto_columns": null,
            "margin": null,
            "display": null,
            "left": null
          }
        },
        "1b375ca4bc4e48c09f98694d8f69ffbe": {
          "model_module": "@jupyter-widgets/controls",
          "model_name": "HTMLModel",
          "model_module_version": "1.5.0",
          "state": {
            "_view_name": "HTMLView",
            "style": "IPY_MODEL_00e0a546df754840b65fcc9a2e8887cf",
            "_dom_classes": [],
            "description": "",
            "_model_name": "HTMLModel",
            "placeholder": "​",
            "_view_module": "@jupyter-widgets/controls",
            "_model_module_version": "1.5.0",
            "value": "Adversarial training epochs: 100%",
            "_view_count": null,
            "_view_module_version": "1.5.0",
            "description_tooltip": null,
            "_model_module": "@jupyter-widgets/controls",
            "layout": "IPY_MODEL_5089808556d34292b00492d5ae8b80c1"
          }
        },
        "da47efe7980b47aa9ad76af65056500d": {
          "model_module": "@jupyter-widgets/controls",
          "model_name": "FloatProgressModel",
          "model_module_version": "1.5.0",
          "state": {
            "_view_name": "ProgressView",
            "style": "IPY_MODEL_35a72740b78e4a3aaf924ea1f25bd73e",
            "_dom_classes": [],
            "description": "",
            "_model_name": "FloatProgressModel",
            "bar_style": "success",
            "max": 3,
            "_view_module": "@jupyter-widgets/controls",
            "_model_module_version": "1.5.0",
            "value": 3,
            "_view_count": null,
            "_view_module_version": "1.5.0",
            "orientation": "horizontal",
            "min": 0,
            "description_tooltip": null,
            "_model_module": "@jupyter-widgets/controls",
            "layout": "IPY_MODEL_9b18a2b2a28f4018a4ea4d9a7386369c"
          }
        },
        "4c4ade1847304131a0dcd8afd2d326a7": {
          "model_module": "@jupyter-widgets/controls",
          "model_name": "HTMLModel",
          "model_module_version": "1.5.0",
          "state": {
            "_view_name": "HTMLView",
            "style": "IPY_MODEL_9c33c8f6c3df4453b5d9261c3d832e6d",
            "_dom_classes": [],
            "description": "",
            "_model_name": "HTMLModel",
            "placeholder": "​",
            "_view_module": "@jupyter-widgets/controls",
            "_model_module_version": "1.5.0",
            "value": " 3/3 [00:37&lt;00:00, 13.00s/it]",
            "_view_count": null,
            "_view_module_version": "1.5.0",
            "description_tooltip": null,
            "_model_module": "@jupyter-widgets/controls",
            "layout": "IPY_MODEL_2c346ac0800f43429d4aa3daa1a64ebb"
          }
        },
        "00e0a546df754840b65fcc9a2e8887cf": {
          "model_module": "@jupyter-widgets/controls",
          "model_name": "DescriptionStyleModel",
          "model_module_version": "1.5.0",
          "state": {
            "_view_name": "StyleView",
            "_model_name": "DescriptionStyleModel",
            "description_width": "",
            "_view_module": "@jupyter-widgets/base",
            "_model_module_version": "1.5.0",
            "_view_count": null,
            "_view_module_version": "1.2.0",
            "_model_module": "@jupyter-widgets/controls"
          }
        },
        "5089808556d34292b00492d5ae8b80c1": {
          "model_module": "@jupyter-widgets/base",
          "model_name": "LayoutModel",
          "model_module_version": "1.2.0",
          "state": {
            "_view_name": "LayoutView",
            "grid_template_rows": null,
            "right": null,
            "justify_content": null,
            "_view_module": "@jupyter-widgets/base",
            "overflow": null,
            "_model_module_version": "1.2.0",
            "_view_count": null,
            "flex_flow": null,
            "width": null,
            "min_width": null,
            "border": null,
            "align_items": null,
            "bottom": null,
            "_model_module": "@jupyter-widgets/base",
            "top": null,
            "grid_column": null,
            "overflow_y": null,
            "overflow_x": null,
            "grid_auto_flow": null,
            "grid_area": null,
            "grid_template_columns": null,
            "flex": null,
            "_model_name": "LayoutModel",
            "justify_items": null,
            "grid_row": null,
            "max_height": null,
            "align_content": null,
            "visibility": null,
            "align_self": null,
            "height": null,
            "min_height": null,
            "padding": null,
            "grid_auto_rows": null,
            "grid_gap": null,
            "max_width": null,
            "order": null,
            "_view_module_version": "1.2.0",
            "grid_template_areas": null,
            "object_position": null,
            "object_fit": null,
            "grid_auto_columns": null,
            "margin": null,
            "display": null,
            "left": null
          }
        },
        "35a72740b78e4a3aaf924ea1f25bd73e": {
          "model_module": "@jupyter-widgets/controls",
          "model_name": "ProgressStyleModel",
          "model_module_version": "1.5.0",
          "state": {
            "_view_name": "StyleView",
            "_model_name": "ProgressStyleModel",
            "description_width": "",
            "_view_module": "@jupyter-widgets/base",
            "_model_module_version": "1.5.0",
            "_view_count": null,
            "_view_module_version": "1.2.0",
            "bar_color": null,
            "_model_module": "@jupyter-widgets/controls"
          }
        },
        "9b18a2b2a28f4018a4ea4d9a7386369c": {
          "model_module": "@jupyter-widgets/base",
          "model_name": "LayoutModel",
          "model_module_version": "1.2.0",
          "state": {
            "_view_name": "LayoutView",
            "grid_template_rows": null,
            "right": null,
            "justify_content": null,
            "_view_module": "@jupyter-widgets/base",
            "overflow": null,
            "_model_module_version": "1.2.0",
            "_view_count": null,
            "flex_flow": null,
            "width": null,
            "min_width": null,
            "border": null,
            "align_items": null,
            "bottom": null,
            "_model_module": "@jupyter-widgets/base",
            "top": null,
            "grid_column": null,
            "overflow_y": null,
            "overflow_x": null,
            "grid_auto_flow": null,
            "grid_area": null,
            "grid_template_columns": null,
            "flex": null,
            "_model_name": "LayoutModel",
            "justify_items": null,
            "grid_row": null,
            "max_height": null,
            "align_content": null,
            "visibility": null,
            "align_self": null,
            "height": null,
            "min_height": null,
            "padding": null,
            "grid_auto_rows": null,
            "grid_gap": null,
            "max_width": null,
            "order": null,
            "_view_module_version": "1.2.0",
            "grid_template_areas": null,
            "object_position": null,
            "object_fit": null,
            "grid_auto_columns": null,
            "margin": null,
            "display": null,
            "left": null
          }
        },
        "9c33c8f6c3df4453b5d9261c3d832e6d": {
          "model_module": "@jupyter-widgets/controls",
          "model_name": "DescriptionStyleModel",
          "model_module_version": "1.5.0",
          "state": {
            "_view_name": "StyleView",
            "_model_name": "DescriptionStyleModel",
            "description_width": "",
            "_view_module": "@jupyter-widgets/base",
            "_model_module_version": "1.5.0",
            "_view_count": null,
            "_view_module_version": "1.2.0",
            "_model_module": "@jupyter-widgets/controls"
          }
        },
        "2c346ac0800f43429d4aa3daa1a64ebb": {
          "model_module": "@jupyter-widgets/base",
          "model_name": "LayoutModel",
          "model_module_version": "1.2.0",
          "state": {
            "_view_name": "LayoutView",
            "grid_template_rows": null,
            "right": null,
            "justify_content": null,
            "_view_module": "@jupyter-widgets/base",
            "overflow": null,
            "_model_module_version": "1.2.0",
            "_view_count": null,
            "flex_flow": null,
            "width": null,
            "min_width": null,
            "border": null,
            "align_items": null,
            "bottom": null,
            "_model_module": "@jupyter-widgets/base",
            "top": null,
            "grid_column": null,
            "overflow_y": null,
            "overflow_x": null,
            "grid_auto_flow": null,
            "grid_area": null,
            "grid_template_columns": null,
            "flex": null,
            "_model_name": "LayoutModel",
            "justify_items": null,
            "grid_row": null,
            "max_height": null,
            "align_content": null,
            "visibility": null,
            "align_self": null,
            "height": null,
            "min_height": null,
            "padding": null,
            "grid_auto_rows": null,
            "grid_gap": null,
            "max_width": null,
            "order": null,
            "_view_module_version": "1.2.0",
            "grid_template_areas": null,
            "object_position": null,
            "object_fit": null,
            "grid_auto_columns": null,
            "margin": null,
            "display": null,
            "left": null
          }
        }
      }
    }
  },
  "cells": [
    {
      "cell_type": "markdown",
      "metadata": {
        "id": "CLrkyRc6-rD5"
      },
      "source": [
        "# Adversarial Robustness Toolkit"
      ]
    },
    {
      "cell_type": "markdown",
      "metadata": {
        "id": "JgG8sFK-sd1z"
      },
      "source": [
        "* Documentación: https://adversarial-robustness-toolbox.readthedocs.io/en/latest/\n",
        "* Código: https://github.com/Trusted-AI/adversarial-robustness-toolbox\n",
        "* Ejemplos: https://github.com/Trusted-AI/adversarial-robustness-toolbox/tree/main/examples"
      ]
    },
    {
      "cell_type": "markdown",
      "metadata": {
        "id": "NuoZ5bhE-2_0"
      },
      "source": [
        "## Instalación"
      ]
    },
    {
      "cell_type": "code",
      "metadata": {
        "id": "Zua3aciV-O5K",
        "colab": {
          "base_uri": "https://localhost:8080/"
        },
        "outputId": "226a483d-bb72-4821-cdef-48a1e55fef57"
      },
      "source": [
        "!pip install adversarial-robustness-toolbox==1.8.1"
      ],
      "execution_count": null,
      "outputs": [
        {
          "output_type": "stream",
          "name": "stdout",
          "text": [
            "Requirement already satisfied: adversarial-robustness-toolbox==1.8.1 in /usr/local/lib/python3.7/dist-packages (1.8.1)\n",
            "Requirement already satisfied: tqdm in /usr/local/lib/python3.7/dist-packages (from adversarial-robustness-toolbox==1.8.1) (4.62.3)\n",
            "Requirement already satisfied: numba>=0.53.1 in /usr/local/lib/python3.7/dist-packages (from adversarial-robustness-toolbox==1.8.1) (0.54.1)\n",
            "Requirement already satisfied: numpy>=1.18.0 in /usr/local/lib/python3.7/dist-packages (from adversarial-robustness-toolbox==1.8.1) (1.19.5)\n",
            "Requirement already satisfied: scipy>=1.4.1 in /usr/local/lib/python3.7/dist-packages (from adversarial-robustness-toolbox==1.8.1) (1.4.1)\n",
            "Requirement already satisfied: six in /usr/local/lib/python3.7/dist-packages (from adversarial-robustness-toolbox==1.8.1) (1.15.0)\n",
            "Requirement already satisfied: scikit-learn<1.1.0,>=0.22.2 in /usr/local/lib/python3.7/dist-packages (from adversarial-robustness-toolbox==1.8.1) (0.22.2.post1)\n",
            "Requirement already satisfied: setuptools in /usr/local/lib/python3.7/dist-packages (from adversarial-robustness-toolbox==1.8.1) (57.4.0)\n",
            "Requirement already satisfied: llvmlite<0.38,>=0.37.0rc1 in /usr/local/lib/python3.7/dist-packages (from numba>=0.53.1->adversarial-robustness-toolbox==1.8.1) (0.37.0)\n",
            "Requirement already satisfied: joblib>=0.11 in /usr/local/lib/python3.7/dist-packages (from scikit-learn<1.1.0,>=0.22.2->adversarial-robustness-toolbox==1.8.1) (1.1.0)\n"
          ]
        }
      ]
    },
    {
      "cell_type": "code",
      "metadata": {
        "id": "1M8cmX6Y_MaU"
      },
      "source": [
        "import keras\n",
        "from keras.models import Sequential\n",
        "from keras.layers import Dense, Flatten, Conv2D, MaxPooling2D\n",
        "import numpy as np\n",
        "import matplotlib.pyplot as plt\n",
        "from art.utils import load_mnist"
      ],
      "execution_count": null,
      "outputs": []
    },
    {
      "cell_type": "code",
      "metadata": {
        "id": "3JSlG18GC1RT"
      },
      "source": [
        "import tensorflow as tf\n",
        "tf.compat.v1.disable_eager_execution()\n",
        "\n",
        "import warnings\n",
        "warnings.filterwarnings('ignore')"
      ],
      "execution_count": null,
      "outputs": []
    },
    {
      "cell_type": "code",
      "metadata": {
        "id": "6k-Q4bnG_SWG"
      },
      "source": [
        "%matplotlib inline"
      ],
      "execution_count": null,
      "outputs": []
    },
    {
      "cell_type": "markdown",
      "metadata": {
        "id": "rYWQUSRC_WLT"
      },
      "source": [
        "## Cargar datos"
      ]
    },
    {
      "cell_type": "code",
      "metadata": {
        "id": "hq1wjOgu_a1U"
      },
      "source": [
        "(x_train, y_train), (x_test, y_test), min_pixel_value, max_pixel_value = load_mnist()"
      ],
      "execution_count": null,
      "outputs": []
    },
    {
      "cell_type": "code",
      "metadata": {
        "id": "YCASWXza_dK1",
        "colab": {
          "base_uri": "https://localhost:8080/"
        },
        "outputId": "d2a27f2c-f819-404e-a8dc-b5760de363e2"
      },
      "source": [
        "print(\"x_train shape:\", x_train.shape)\n",
        "print(\"y_train shape:\", y_train.shape)\n",
        "print(\"x_test shape:\", x_test.shape)\n",
        "print(\"y_test shape:\", y_test.shape)\n",
        "\n",
        "print(\"min_pixel_value:\", min_pixel_value)\n",
        "print(\"min_pixel_value:\", max_pixel_value)"
      ],
      "execution_count": null,
      "outputs": [
        {
          "output_type": "stream",
          "name": "stdout",
          "text": [
            "x_train shape: (60000, 28, 28, 1)\n",
            "y_train shape: (60000, 10)\n",
            "x_test shape: (10000, 28, 28, 1)\n",
            "y_test shape: (10000, 10)\n",
            "min_pixel_value: 0.0\n",
            "min_pixel_value: 1.0\n"
          ]
        }
      ]
    },
    {
      "cell_type": "code",
      "metadata": {
        "id": "x7I2LY9T_k22",
        "colab": {
          "base_uri": "https://localhost:8080/",
          "height": 282
        },
        "outputId": "910956e6-5453-4165-fa01-2c9939458f42"
      },
      "source": [
        "sample = 34567\n",
        "plt.imshow(x_train[sample].reshape((28, 28)), cmap='gray', interpolation='none')"
      ],
      "execution_count": null,
      "outputs": [
        {
          "output_type": "execute_result",
          "data": {
            "text/plain": [
              "<matplotlib.image.AxesImage at 0x7fead02bb710>"
            ]
          },
          "metadata": {},
          "execution_count": 7
        },
        {
          "output_type": "display_data",
          "data": {
            "image/png": "[encoded data removed]",
            "text/plain": [
              "<Figure size 432x288 with 1 Axes>"
            ]
          },
          "metadata": {
            "needs_background": "light"
          }
        }
      ]
    },
    {
      "cell_type": "markdown",
      "metadata": {
        "id": "gGp89T6o_s3M"
      },
      "source": [
        "## Entrenar modelo"
      ]
    },
    {
      "cell_type": "code",
      "metadata": {
        "id": "gTOks8pDAObr"
      },
      "source": [
        "from art.estimators.classification import KerasClassifier"
      ],
      "execution_count": null,
      "outputs": []
    },
    {
      "cell_type": "code",
      "metadata": {
        "id": "IwvRBqtoARMM",
        "colab": {
          "base_uri": "https://localhost:8080/"
        },
        "outputId": "9d88d8c8-ef21-400e-c6a5-1e338bc9873d"
      },
      "source": [
        "model = Sequential()\n",
        "model.add(Conv2D(filters=4, kernel_size=(5, 5), strides=1, activation=\"relu\", input_shape=(28, 28, 1)))\n",
        "model.add(MaxPooling2D(pool_size=(2, 2)))\n",
        "model.add(Conv2D(filters=10, kernel_size=(5, 5), strides=1, activation=\"relu\", input_shape=(23, 23, 4)))\n",
        "model.add(MaxPooling2D(pool_size=(2, 2)))\n",
        "model.add(Flatten())\n",
        "model.add(Dense(100, activation=\"relu\"))\n",
        "model.add(Dense(10, activation=\"softmax\"))\n",
        "\n",
        "model.compile(loss=keras.losses.categorical_crossentropy, optimizer=tf.keras.optimizers.Adam(lr=0.01), metrics=[\"accuracy\"])\n",
        "classifier = KerasClassifier(model=model, clip_values=(min_pixel_value, max_pixel_value), use_logits=False)\n",
        "\n",
        "classifier.fit(x_train, y_train, batch_size=64, nb_epochs=3)"
      ],
      "execution_count": null,
      "outputs": [
        {
          "output_type": "stream",
          "name": "stdout",
          "text": [
            "Train on 60000 samples\n",
            "Epoch 1/3\n",
            "60000/60000 [==============================] - 34s 565us/sample - loss: 0.1569 - accuracy: 0.9508\n",
            "Epoch 2/3\n",
            "60000/60000 [==============================] - 5s 77us/sample - loss: 0.0802 - accuracy: 0.9753\n",
            "Epoch 3/3\n",
            "60000/60000 [==============================] - 5s 77us/sample - loss: 0.0705 - accuracy: 0.9787\n"
          ]
        }
      ]
    },
    {
      "cell_type": "code",
      "metadata": {
        "id": "HoS7HK-8ATSa",
        "colab": {
          "base_uri": "https://localhost:8080/"
        },
        "outputId": "f970b95b-1632-491c-f3bc-dc036c24edcf"
      },
      "source": [
        "predictions_test = classifier.predict(x_test)\n",
        "accuracy = np.sum(np.argmax(predictions_test, axis=1) == np.argmax(y_test, axis=1)) / len(y_test)\n",
        "print(\"Accuracy on test examples: {}%\".format(accuracy * 100))"
      ],
      "execution_count": null,
      "outputs": [
        {
          "output_type": "stream",
          "name": "stdout",
          "text": [
            "Accuracy on test examples: 98.28%\n"
          ]
        }
      ]
    },
    {
      "cell_type": "markdown",
      "metadata": {
        "id": "8RjSGz4MAa5n"
      },
      "source": [
        "## Generar ejemplos adversarios"
      ]
    },
    {
      "cell_type": "code",
      "metadata": {
        "id": "LzFU47WnAd9T"
      },
      "source": [
        "from art.attacks.evasion import FastGradientMethod, SaliencyMapMethod, CarliniL2Method"
      ],
      "execution_count": null,
      "outputs": []
    },
    {
      "cell_type": "code",
      "metadata": {
        "id": "QH6qevlrAkGh"
      },
      "source": [
        "attack_fgm = FastGradientMethod(estimator = classifier, eps = 0.2)\n",
        "x_test_fgm = attack_fgm.generate(x=x_test)"
      ],
      "execution_count": null,
      "outputs": []
    },
    {
      "cell_type": "code",
      "metadata": {
        "id": "awFmtipPFFla",
        "colab": {
          "base_uri": "https://localhost:8080/"
        },
        "outputId": "e1720a25-3de9-4d67-b9d8-c97f092eb629"
      },
      "source": [
        "predictions_test = classifier.predict(x_test_fgm)\n",
        "accuracy = np.sum(np.argmax(predictions_test, axis=1) == np.argmax(y_test, axis=1)) / len(y_test)\n",
        "print(\"Accuracy on test adversarial examples: {0:.2f}%\".format(accuracy * 100))"
      ],
      "execution_count": null,
      "outputs": [
        {
          "output_type": "stream",
          "name": "stdout",
          "text": [
            "Accuracy on test adversarial examples: 47.07%\n"
          ]
        }
      ]
    },
    {
      "cell_type": "code",
      "metadata": {
        "id": "gYmcNjfG8Ypr",
        "colab": {
          "base_uri": "https://localhost:8080/"
        },
        "outputId": "1f09bb2e-56f7-4fbc-d44d-6e5ea83c1479"
      },
      "source": [
        "# Ataque no dirigido\n",
        "best = (100, 0, None, None) # (acc, eps, x_test_fgm, predictions)\n",
        "for eps in np.arange(0.0, 1.0, 0.1):\n",
        "  attack_fgm = FastGradientMethod(estimator = classifier, eps = eps)\n",
        "  x_test_fgm = attack_fgm.generate(x=x_test)\n",
        "  predictions_test = classifier.predict(x_test_fgm)\n",
        "  accuracy = np.sum(np.argmax(predictions_test, axis=1) == np.argmax(y_test, axis=1)) / len(y_test)\n",
        "  if(accuracy < best[0]):\n",
        "    best = (accuracy, eps, x_test_fgm, predictions_test)\n",
        "  print(\"Accuracy on test adversarial examples: {:.2f}% (eps={:.2f})\".format(accuracy * 100, eps))\n",
        "print(\"Best results: accuracy: {:.2f}%  eps={:.2f}\".format(best[0] * 100, best[1]))"
      ],
      "execution_count": null,
      "outputs": [
        {
          "output_type": "stream",
          "name": "stdout",
          "text": [
            "Accuracy on test adversarial examples: 98.28% (eps=0.00)\n",
            "Accuracy on test adversarial examples: 77.81% (eps=0.10)\n",
            "Accuracy on test adversarial examples: 47.07% (eps=0.20)\n",
            "Accuracy on test adversarial examples: 31.44% (eps=0.30)\n",
            "Accuracy on test adversarial examples: 24.97% (eps=0.40)\n",
            "Accuracy on test adversarial examples: 21.86% (eps=0.50)\n",
            "Accuracy on test adversarial examples: 20.06% (eps=0.60)\n",
            "Accuracy on test adversarial examples: 19.09% (eps=0.70)\n",
            "Accuracy on test adversarial examples: 18.93% (eps=0.80)\n",
            "Accuracy on test adversarial examples: 19.50% (eps=0.90)\n",
            "Best results: accuracy: 18.93%  eps=0.80\n"
          ]
        }
      ]
    },
    {
      "cell_type": "code",
      "metadata": {
        "id": "ZWISeIXx-0sy",
        "colab": {
          "base_uri": "https://localhost:8080/"
        },
        "outputId": "2c41bf02-129c-4168-b3a6-683ff82f8d86"
      },
      "source": [
        "# Ataque dirigido\n",
        "best_targeted = (100, 0, None, None) # (acc, eps, x_test_fgm, predictions)\n",
        "for eps in np.arange(0.0, 1.0, 0.1):\n",
        "  attack_fgm = FastGradientMethod(estimator = classifier, eps = eps, targeted=True)\n",
        "  x_test_fgm = attack_fgm.generate(x=x_test, y=y_test)\n",
        "  predictions_test = classifier.predict(x_test_fgm)\n",
        "  accuracy = np.sum(np.argmax(predictions_test, axis=1) == np.argmax(y_test, axis=1)) / len(y_test)\n",
        "  if(accuracy < best_targeted[0]):\n",
        "    best_targeted = (accuracy, eps, x_test_fgm, predictions_test)\n",
        "  print(\"Accuracy on test adversarial examples: {:.2f}% (eps={:.2f})\".format(accuracy * 100, eps))\n",
        "print(\"Best results (targeted): accuracy: {:.2f}%  eps={:.2f}\".format(best_targeted[0] * 100, best_targeted[1]))"
      ],
      "execution_count": null,
      "outputs": [
        {
          "output_type": "stream",
          "name": "stdout",
          "text": [
            "Accuracy on test adversarial examples: 98.28% (eps=0.00)\n",
            "Accuracy on test adversarial examples: 99.86% (eps=0.10)\n",
            "Accuracy on test adversarial examples: 99.53% (eps=0.20)\n",
            "Accuracy on test adversarial examples: 97.61% (eps=0.30)\n",
            "Accuracy on test adversarial examples: 93.78% (eps=0.40)\n",
            "Accuracy on test adversarial examples: 87.66% (eps=0.50)\n",
            "Accuracy on test adversarial examples: 78.30% (eps=0.60)\n",
            "Accuracy on test adversarial examples: 67.88% (eps=0.70)\n",
            "Accuracy on test adversarial examples: 57.39% (eps=0.80)\n",
            "Accuracy on test adversarial examples: 49.35% (eps=0.90)\n",
            "Best results (targeted): accuracy: 49.35%  eps=0.90\n"
          ]
        }
      ]
    },
    {
      "cell_type": "code",
      "metadata": {
        "id": "udwfxbJoE9hM",
        "colab": {
          "base_uri": "https://localhost:8080/",
          "height": 290
        },
        "outputId": "1180696c-b658-4ec8-c469-2a9b8eea0875"
      },
      "source": [
        "sample = 0\n",
        "fig = plt.figure(figsize=(20,10))\n",
        "ax = fig.add_subplot(1, 4, 1)\n",
        "ax.imshow(x_test[sample].reshape((28, 28)), cmap='gray', interpolation='none')\n",
        "ax.set_title(\"Original: {}\".format(np.argmax(y_test[sample])))\n",
        "ax.axis('off')\n",
        "ax = fig.add_subplot(1, 4, 2)\n",
        "ax.imshow(best[2][sample].reshape((28, 28)), cmap='gray', interpolation='none')\n",
        "ax.set_title(\"Adversarial (FGSM): {}\".format(np.argmax(best[3][sample])))\n",
        "ax.axis('off')\n",
        "ax = fig.add_subplot(1, 4, 3)\n",
        "ax.imshow(best_targeted[2][sample].reshape((28, 28)), cmap='gray', interpolation='none')\n",
        "ax.set_title(\"Adversarial (FGSM - targeted): {}\".format(np.argmax(best_targeted[3][sample])))\n",
        "ax.axis('off')\n",
        "fig.show()"
      ],
      "execution_count": null,
      "outputs": [
        {
          "output_type": "display_data",
          "data": {
            "image/png": "[encoded data removed]",
            "text/plain": [
              "<Figure size 1440x720 with 3 Axes>"
            ]
          },
          "metadata": {
            "needs_background": "light"
          }
        }
      ]
    },
    {
      "cell_type": "markdown",
      "metadata": {
        "id": "O_GYhKOCB6SS"
      },
      "source": [
        "# Otros métodos de ataque"
      ]
    },
    {
      "cell_type": "code",
      "metadata": {
        "id": "9w5pLUQrAo4e"
      },
      "source": [
        "# Estos métodos tardan bastante tiempo en ejecutar.\n",
        "\n",
        "# JSMA\n",
        "# attack_jsma = SaliencyMapMethod(classifier = classifier, theta = 0.1)\n",
        "# x_test_jsma = attack_jsma.generate(x=x_test)\n",
        "\n",
        "# Carlini&Wagner\n",
        "# attack_cw2 = CarliniL2Method(classifier = classifier)\n",
        "# x_test_cw2 = attack_cw2.generate(x=x_test)"
      ],
      "execution_count": null,
      "outputs": []
    },
    {
      "cell_type": "markdown",
      "metadata": {
        "id": "bXZyqv27Ag9N"
      },
      "source": [
        "# Entrenamiento adversario"
      ]
    },
    {
      "cell_type": "code",
      "metadata": {
        "id": "hZtOAlI5BGX2"
      },
      "source": [
        "attack_fgm = FastGradientMethod(estimator = classifier, eps = 0.7)\n",
        "x_train_fgm = attack_fgm.generate(x=x_train)"
      ],
      "execution_count": null,
      "outputs": []
    },
    {
      "cell_type": "code",
      "metadata": {
        "id": "BggbW6KoBJNk"
      },
      "source": [
        "x_train = np.append(x_train, x_train_fgm, axis=0)\n",
        "y_train = np.append(y_train, y_train, axis=0)"
      ],
      "execution_count": null,
      "outputs": []
    },
    {
      "cell_type": "code",
      "metadata": {
        "id": "IOdjNpvJBLIz",
        "colab": {
          "base_uri": "https://localhost:8080/"
        },
        "outputId": "a493e68d-f6a7-4e9b-c2a1-c39052cefb22"
      },
      "source": [
        "model.compile(loss=keras.losses.categorical_crossentropy, optimizer=tf.keras.optimizers.Adam(lr=0.01), metrics=[\"accuracy\"])\n",
        "\n",
        "classifier.fit(x_train, y_train, batch_size=64, nb_epochs=3)"
      ],
      "execution_count": null,
      "outputs": [
        {
          "output_type": "stream",
          "name": "stdout",
          "text": [
            "Train on 120000 samples\n",
            "Epoch 1/3\n",
            "120000/120000 [==============================] - 9s 78us/sample - loss: 0.1726 - accuracy: 0.9474\n",
            "Epoch 2/3\n",
            "120000/120000 [==============================] - 10s 79us/sample - loss: 0.1496 - accuracy: 0.9552\n",
            "Epoch 3/3\n",
            "120000/120000 [==============================] - 10s 80us/sample - loss: 0.1412 - accuracy: 0.9583\n"
          ]
        }
      ]
    },
    {
      "cell_type": "code",
      "metadata": {
        "id": "2WLDCQoIBRiT",
        "colab": {
          "base_uri": "https://localhost:8080/"
        },
        "outputId": "3d42306e-4511-490d-a07d-50680d702440"
      },
      "source": [
        "predictions_test = classifier.predict(x_test)\n",
        "accuracy = np.sum(np.argmax(predictions_test, axis=1) == np.argmax(y_test, axis=1)) / len(y_test)\n",
        "print(\"Accuracy on test examples: {}%\".format(accuracy * 100))\n",
        "\n",
        "predictions_fsm = classifier.predict(x_test_fgm)\n",
        "accuracy = np.sum(np.argmax(predictions_fsm, axis=1) == np.argmax(y_test, axis=1)) / len(y_test)\n",
        "print(\"Accuracy on adversarial test examples for JSM attack: {}%\".format(accuracy * 100))"
      ],
      "execution_count": null,
      "outputs": [
        {
          "output_type": "stream",
          "name": "stdout",
          "text": [
            "Accuracy on test examples: 97.00999999999999%\n",
            "Accuracy on adversarial test examples for JSM attack: 34.83%\n"
          ]
        }
      ]
    },
    {
      "cell_type": "markdown",
      "metadata": {
        "id": "FaoK60dJcHcy"
      },
      "source": [
        "## Entrenamiento adversario de forma nativa"
      ]
    },
    {
      "cell_type": "code",
      "metadata": {
        "id": "brtrAWaCUSmz"
      },
      "source": [
        "from art.defences.trainer import AdversarialTrainer"
      ],
      "execution_count": null,
      "outputs": []
    },
    {
      "cell_type": "code",
      "metadata": {
        "id": "AE_5ZSKLUuCu"
      },
      "source": [
        "model.compile(loss=keras.losses.categorical_crossentropy, optimizer=tf.keras.optimizers.Adam(lr=0.01), metrics=[\"accuracy\"])"
      ],
      "execution_count": null,
      "outputs": []
    },
    {
      "cell_type": "code",
      "metadata": {
        "id": "7zL6s6qfUZ4Y"
      },
      "source": [
        "defence = AdversarialTrainer(classifier=classifier, attacks=attack_fgm, ratio=0.5)"
      ],
      "execution_count": null,
      "outputs": []
    },
    {
      "cell_type": "code",
      "metadata": {
        "id": "TXRJQTipVFuu"
      },
      "source": [
        "(x_train, y_train), (x_test, y_test), min_pixel_value, max_pixel_value = load_mnist()"
      ],
      "execution_count": null,
      "outputs": []
    },
    {
      "cell_type": "code",
      "metadata": {
        "id": "ww6WB1BjU59K",
        "colab": {
          "base_uri": "https://localhost:8080/",
          "height": 81,
          "referenced_widgets": [
            "a8b225a7fcdb40fbac67e026e6e02a62",
            "e23f6d50ce1b4fe88fc3445773d12786",
            "7f1882f880e648669d8b44217c269294",
            "9a187691f9fa4d4eb7bb6a2a6f6eb53c",
            "0894d24f85c741e3ac3e96ccacae033a",
            "38736de27d7a43289b51bcc742b81a41",
            "d8e2b3b089b54948b93aaf3e3e340f42",
            "63ff352f4d504b1f9c172b1b364bf877",
            "7ff503789c3746d2966fb366ab1d64a4",
            "32757c343a16412eafb4fe25c782cb41",
            "a5b43a5288ba41b898f815fe145a4eba",
            "84b960e8a952488e906bf55c5c51748a",
            "d039d3c272ec4bf4bc471a0aff1fe0d9",
            "1b375ca4bc4e48c09f98694d8f69ffbe",
            "da47efe7980b47aa9ad76af65056500d",
            "4c4ade1847304131a0dcd8afd2d326a7",
            "00e0a546df754840b65fcc9a2e8887cf",
            "5089808556d34292b00492d5ae8b80c1",
            "35a72740b78e4a3aaf924ea1f25bd73e",
            "9b18a2b2a28f4018a4ea4d9a7386369c",
            "9c33c8f6c3df4453b5d9261c3d832e6d",
            "2c346ac0800f43429d4aa3daa1a64ebb"
          ]
        },
        "outputId": "1c75d4d8-b913-4a4e-a034-614132a666cd"
      },
      "source": [
        "defence.fit(x=x_train, y=y_train, nb_epochs=3)"
      ],
      "execution_count": null,
      "outputs": [
        {
          "output_type": "display_data",
          "data": {
            "application/vnd.jupyter.widget-view+json": {
              "model_id": "a8b225a7fcdb40fbac67e026e6e02a62",
              "version_minor": 0,
              "version_major": 2
            },
            "text/plain": [
              "Precompute adv samples:   0%|          | 0/1 [00:00<?, ?it/s]"
            ]
          },
          "metadata": {}
        },
        {
          "output_type": "display_data",
          "data": {
            "application/vnd.jupyter.widget-view+json": {
              "model_id": "84b960e8a952488e906bf55c5c51748a",
              "version_minor": 0,
              "version_major": 2
            },
            "text/plain": [
              "Adversarial training epochs:   0%|          | 0/3 [00:00<?, ?it/s]"
            ]
          },
          "metadata": {}
        }
      ]
    },
    {
      "cell_type": "code",
      "metadata": {
        "id": "60HDLfwbVOiV",
        "colab": {
          "base_uri": "https://localhost:8080/"
        },
        "outputId": "ed51da93-60a3-440f-8a50-1a70e9074d1c"
      },
      "source": [
        "predictions_test = classifier.predict(x_test)\n",
        "accuracy = np.sum(np.argmax(predictions_test, axis=1) == np.argmax(y_test, axis=1)) / len(y_test)\n",
        "print(\"Accuracy on test examples: {}%\".format(accuracy * 100))\n",
        "\n",
        "predictions_fgm = defence.predict(x_test_fgm)\n",
        "accuracy = np.sum(np.argmax(predictions_fgm, axis=1) == np.argmax(y_test, axis=1)) / len(y_test)\n",
        "print(\"Accuracy on adversarial test examples for FGM attack: {}%\".format(accuracy * 100))"
      ],
      "execution_count": null,
      "outputs": [
        {
          "output_type": "stream",
          "name": "stdout",
          "text": [
            "Accuracy on test examples: 97.0%\n",
            "Accuracy on adversarial test examples for FGM attack: 51.23%\n"
          ]
        }
      ]
    }
  ]
}