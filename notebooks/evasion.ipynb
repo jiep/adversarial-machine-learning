{
  "nbformat": 4,
  "nbformat_minor": 0,
  "metadata": {
    "colab": {
      "name": "evasion",
      "provenance": [],
      "collapsed_sections": [],
      "toc_visible": true
    },
    "kernelspec": {
      "name": "python3",
      "display_name": "Python 3"
    },
    "accelerator": "GPU",
    "widgets": {
      "application/vnd.jupyter.widget-state+json": {
        "1de560444d484f3eaab695a34b2f6a6b": {
          "model_module": "@jupyter-widgets/controls",
          "model_name": "HBoxModel",
          "model_module_version": "1.5.0",
          "state": {
            "_view_name": "HBoxView",
            "_dom_classes": [],
            "_model_name": "HBoxModel",
            "_view_module": "@jupyter-widgets/controls",
            "_model_module_version": "1.5.0",
            "_view_count": null,
            "_view_module_version": "1.5.0",
            "box_style": "",
            "layout": "IPY_MODEL_4108c6d12b994efaaa7a8790069d63f7",
            "_model_module": "@jupyter-widgets/controls",
            "children": [
              "IPY_MODEL_9a18793195e34ba0bb457774402544ee",
              "IPY_MODEL_27de83d71c9f4a808da44be4ba7cb710",
              "IPY_MODEL_1611b759fcf243edbc25c36d1b66d5c2"
            ]
          }
        },
        "4108c6d12b994efaaa7a8790069d63f7": {
          "model_module": "@jupyter-widgets/base",
          "model_name": "LayoutModel",
          "model_module_version": "1.2.0",
          "state": {
            "_view_name": "LayoutView",
            "grid_template_rows": null,
            "right": null,
            "justify_content": null,
            "_view_module": "@jupyter-widgets/base",
            "overflow": null,
            "_model_module_version": "1.2.0",
            "_view_count": null,
            "flex_flow": null,
            "width": null,
            "min_width": null,
            "border": null,
            "align_items": null,
            "bottom": null,
            "_model_module": "@jupyter-widgets/base",
            "top": null,
            "grid_column": null,
            "overflow_y": null,
            "overflow_x": null,
            "grid_auto_flow": null,
            "grid_area": null,
            "grid_template_columns": null,
            "flex": null,
            "_model_name": "LayoutModel",
            "justify_items": null,
            "grid_row": null,
            "max_height": null,
            "align_content": null,
            "visibility": null,
            "align_self": null,
            "height": null,
            "min_height": null,
            "padding": null,
            "grid_auto_rows": null,
            "grid_gap": null,
            "max_width": null,
            "order": null,
            "_view_module_version": "1.2.0",
            "grid_template_areas": null,
            "object_position": null,
            "object_fit": null,
            "grid_auto_columns": null,
            "margin": null,
            "display": null,
            "left": null
          }
        },
        "9a18793195e34ba0bb457774402544ee": {
          "model_module": "@jupyter-widgets/controls",
          "model_name": "HTMLModel",
          "model_module_version": "1.5.0",
          "state": {
            "_view_name": "HTMLView",
            "style": "IPY_MODEL_3f73f6b212ec4c09908f3335e04f819b",
            "_dom_classes": [],
            "description": "",
            "_model_name": "HTMLModel",
            "placeholder": "​",
            "_view_module": "@jupyter-widgets/controls",
            "_model_module_version": "1.5.0",
            "value": "Precompute adv samples: 100%",
            "_view_count": null,
            "_view_module_version": "1.5.0",
            "description_tooltip": null,
            "_model_module": "@jupyter-widgets/controls",
            "layout": "IPY_MODEL_7b5e70a0ee1645699683d2dfe9bac4b0"
          }
        },
        "27de83d71c9f4a808da44be4ba7cb710": {
          "model_module": "@jupyter-widgets/controls",
          "model_name": "FloatProgressModel",
          "model_module_version": "1.5.0",
          "state": {
            "_view_name": "ProgressView",
            "style": "IPY_MODEL_5b47f317b5ce4bc09b26653b9e5de0b7",
            "_dom_classes": [],
            "description": "",
            "_model_name": "FloatProgressModel",
            "bar_style": "success",
            "max": 1,
            "_view_module": "@jupyter-widgets/controls",
            "_model_module_version": "1.5.0",
            "value": 1,
            "_view_count": null,
            "_view_module_version": "1.5.0",
            "orientation": "horizontal",
            "min": 0,
            "description_tooltip": null,
            "_model_module": "@jupyter-widgets/controls",
            "layout": "IPY_MODEL_513b5a2e127e480fa304d98990a57b83"
          }
        },
        "1611b759fcf243edbc25c36d1b66d5c2": {
          "model_module": "@jupyter-widgets/controls",
          "model_name": "HTMLModel",
          "model_module_version": "1.5.0",
          "state": {
            "_view_name": "HTMLView",
            "style": "IPY_MODEL_c7d6b166939d42138bbbdc5ad7a02f82",
            "_dom_classes": [],
            "description": "",
            "_model_name": "HTMLModel",
            "placeholder": "​",
            "_view_module": "@jupyter-widgets/controls",
            "_model_module_version": "1.5.0",
            "value": " 1/1 [00:00&lt;00:00, 16.04it/s]",
            "_view_count": null,
            "_view_module_version": "1.5.0",
            "description_tooltip": null,
            "_model_module": "@jupyter-widgets/controls",
            "layout": "IPY_MODEL_3824196fd2184a158ab6d48ccceed2db"
          }
        },
        "3f73f6b212ec4c09908f3335e04f819b": {
          "model_module": "@jupyter-widgets/controls",
          "model_name": "DescriptionStyleModel",
          "model_module_version": "1.5.0",
          "state": {
            "_view_name": "StyleView",
            "_model_name": "DescriptionStyleModel",
            "description_width": "",
            "_view_module": "@jupyter-widgets/base",
            "_model_module_version": "1.5.0",
            "_view_count": null,
            "_view_module_version": "1.2.0",
            "_model_module": "@jupyter-widgets/controls"
          }
        },
        "7b5e70a0ee1645699683d2dfe9bac4b0": {
          "model_module": "@jupyter-widgets/base",
          "model_name": "LayoutModel",
          "model_module_version": "1.2.0",
          "state": {
            "_view_name": "LayoutView",
            "grid_template_rows": null,
            "right": null,
            "justify_content": null,
            "_view_module": "@jupyter-widgets/base",
            "overflow": null,
            "_model_module_version": "1.2.0",
            "_view_count": null,
            "flex_flow": null,
            "width": null,
            "min_width": null,
            "border": null,
            "align_items": null,
            "bottom": null,
            "_model_module": "@jupyter-widgets/base",
            "top": null,
            "grid_column": null,
            "overflow_y": null,
            "overflow_x": null,
            "grid_auto_flow": null,
            "grid_area": null,
            "grid_template_columns": null,
            "flex": null,
            "_model_name": "LayoutModel",
            "justify_items": null,
            "grid_row": null,
            "max_height": null,
            "align_content": null,
            "visibility": null,
            "align_self": null,
            "height": null,
            "min_height": null,
            "padding": null,
            "grid_auto_rows": null,
            "grid_gap": null,
            "max_width": null,
            "order": null,
            "_view_module_version": "1.2.0",
            "grid_template_areas": null,
            "object_position": null,
            "object_fit": null,
            "grid_auto_columns": null,
            "margin": null,
            "display": null,
            "left": null
          }
        },
        "5b47f317b5ce4bc09b26653b9e5de0b7": {
          "model_module": "@jupyter-widgets/controls",
          "model_name": "ProgressStyleModel",
          "model_module_version": "1.5.0",
          "state": {
            "_view_name": "StyleView",
            "_model_name": "ProgressStyleModel",
            "description_width": "",
            "_view_module": "@jupyter-widgets/base",
            "_model_module_version": "1.5.0",
            "_view_count": null,
            "_view_module_version": "1.2.0",
            "bar_color": null,
            "_model_module": "@jupyter-widgets/controls"
          }
        },
        "513b5a2e127e480fa304d98990a57b83": {
          "model_module": "@jupyter-widgets/base",
          "model_name": "LayoutModel",
          "model_module_version": "1.2.0",
          "state": {
            "_view_name": "LayoutView",
            "grid_template_rows": null,
            "right": null,
            "justify_content": null,
            "_view_module": "@jupyter-widgets/base",
            "overflow": null,
            "_model_module_version": "1.2.0",
            "_view_count": null,
            "flex_flow": null,
            "width": null,
            "min_width": null,
            "border": null,
            "align_items": null,
            "bottom": null,
            "_model_module": "@jupyter-widgets/base",
            "top": null,
            "grid_column": null,
            "overflow_y": null,
            "overflow_x": null,
            "grid_auto_flow": null,
            "grid_area": null,
            "grid_template_columns": null,
            "flex": null,
            "_model_name": "LayoutModel",
            "justify_items": null,
            "grid_row": null,
            "max_height": null,
            "align_content": null,
            "visibility": null,
            "align_self": null,
            "height": null,
            "min_height": null,
            "padding": null,
            "grid_auto_rows": null,
            "grid_gap": null,
            "max_width": null,
            "order": null,
            "_view_module_version": "1.2.0",
            "grid_template_areas": null,
            "object_position": null,
            "object_fit": null,
            "grid_auto_columns": null,
            "margin": null,
            "display": null,
            "left": null
          }
        },
        "c7d6b166939d42138bbbdc5ad7a02f82": {
          "model_module": "@jupyter-widgets/controls",
          "model_name": "DescriptionStyleModel",
          "model_module_version": "1.5.0",
          "state": {
            "_view_name": "StyleView",
            "_model_name": "DescriptionStyleModel",
            "description_width": "",
            "_view_module": "@jupyter-widgets/base",
            "_model_module_version": "1.5.0",
            "_view_count": null,
            "_view_module_version": "1.2.0",
            "_model_module": "@jupyter-widgets/controls"
          }
        },
        "3824196fd2184a158ab6d48ccceed2db": {
          "model_module": "@jupyter-widgets/base",
          "model_name": "LayoutModel",
          "model_module_version": "1.2.0",
          "state": {
            "_view_name": "LayoutView",
            "grid_template_rows": null,
            "right": null,
            "justify_content": null,
            "_view_module": "@jupyter-widgets/base",
            "overflow": null,
            "_model_module_version": "1.2.0",
            "_view_count": null,
            "flex_flow": null,
            "width": null,
            "min_width": null,
            "border": null,
            "align_items": null,
            "bottom": null,
            "_model_module": "@jupyter-widgets/base",
            "top": null,
            "grid_column": null,
            "overflow_y": null,
            "overflow_x": null,
            "grid_auto_flow": null,
            "grid_area": null,
            "grid_template_columns": null,
            "flex": null,
            "_model_name": "LayoutModel",
            "justify_items": null,
            "grid_row": null,
            "max_height": null,
            "align_content": null,
            "visibility": null,
            "align_self": null,
            "height": null,
            "min_height": null,
            "padding": null,
            "grid_auto_rows": null,
            "grid_gap": null,
            "max_width": null,
            "order": null,
            "_view_module_version": "1.2.0",
            "grid_template_areas": null,
            "object_position": null,
            "object_fit": null,
            "grid_auto_columns": null,
            "margin": null,
            "display": null,
            "left": null
          }
        },
        "d0d7c36f39ab48f6a33075634b4109b1": {
          "model_module": "@jupyter-widgets/controls",
          "model_name": "HBoxModel",
          "model_module_version": "1.5.0",
          "state": {
            "_view_name": "HBoxView",
            "_dom_classes": [],
            "_model_name": "HBoxModel",
            "_view_module": "@jupyter-widgets/controls",
            "_model_module_version": "1.5.0",
            "_view_count": null,
            "_view_module_version": "1.5.0",
            "box_style": "",
            "layout": "IPY_MODEL_85eee7953ce741dba04fb342b815e49f",
            "_model_module": "@jupyter-widgets/controls",
            "children": [
              "IPY_MODEL_8e8c66d0aed64908be123a40d9e7bf1a",
              "IPY_MODEL_932ebd0f8e1d4cbeb60bdc51bbd4d12f",
              "IPY_MODEL_2f82816aa6cb47d98278f30e42249880"
            ]
          }
        },
        "85eee7953ce741dba04fb342b815e49f": {
          "model_module": "@jupyter-widgets/base",
          "model_name": "LayoutModel",
          "model_module_version": "1.2.0",
          "state": {
            "_view_name": "LayoutView",
            "grid_template_rows": null,
            "right": null,
            "justify_content": null,
            "_view_module": "@jupyter-widgets/base",
            "overflow": null,
            "_model_module_version": "1.2.0",
            "_view_count": null,
            "flex_flow": null,
            "width": null,
            "min_width": null,
            "border": null,
            "align_items": null,
            "bottom": null,
            "_model_module": "@jupyter-widgets/base",
            "top": null,
            "grid_column": null,
            "overflow_y": null,
            "overflow_x": null,
            "grid_auto_flow": null,
            "grid_area": null,
            "grid_template_columns": null,
            "flex": null,
            "_model_name": "LayoutModel",
            "justify_items": null,
            "grid_row": null,
            "max_height": null,
            "align_content": null,
            "visibility": null,
            "align_self": null,
            "height": null,
            "min_height": null,
            "padding": null,
            "grid_auto_rows": null,
            "grid_gap": null,
            "max_width": null,
            "order": null,
            "_view_module_version": "1.2.0",
            "grid_template_areas": null,
            "object_position": null,
            "object_fit": null,
            "grid_auto_columns": null,
            "margin": null,
            "display": null,
            "left": null
          }
        },
        "8e8c66d0aed64908be123a40d9e7bf1a": {
          "model_module": "@jupyter-widgets/controls",
          "model_name": "HTMLModel",
          "model_module_version": "1.5.0",
          "state": {
            "_view_name": "HTMLView",
            "style": "IPY_MODEL_dbb6e1236a1c40bfb534fb2743c1b0e6",
            "_dom_classes": [],
            "description": "",
            "_model_name": "HTMLModel",
            "placeholder": "​",
            "_view_module": "@jupyter-widgets/controls",
            "_model_module_version": "1.5.0",
            "value": "Adversarial training epochs: 100%",
            "_view_count": null,
            "_view_module_version": "1.5.0",
            "description_tooltip": null,
            "_model_module": "@jupyter-widgets/controls",
            "layout": "IPY_MODEL_9e1798eaac3041c2925083b5a0507bd0"
          }
        },
        "932ebd0f8e1d4cbeb60bdc51bbd4d12f": {
          "model_module": "@jupyter-widgets/controls",
          "model_name": "FloatProgressModel",
          "model_module_version": "1.5.0",
          "state": {
            "_view_name": "ProgressView",
            "style": "IPY_MODEL_404166b86a444cb4877a7618900a2c0e",
            "_dom_classes": [],
            "description": "",
            "_model_name": "FloatProgressModel",
            "bar_style": "success",
            "max": 3,
            "_view_module": "@jupyter-widgets/controls",
            "_model_module_version": "1.5.0",
            "value": 3,
            "_view_count": null,
            "_view_module_version": "1.5.0",
            "orientation": "horizontal",
            "min": 0,
            "description_tooltip": null,
            "_model_module": "@jupyter-widgets/controls",
            "layout": "IPY_MODEL_485ff8e8c6f1423688e16b66de1f01b2"
          }
        },
        "2f82816aa6cb47d98278f30e42249880": {
          "model_module": "@jupyter-widgets/controls",
          "model_name": "HTMLModel",
          "model_module_version": "1.5.0",
          "state": {
            "_view_name": "HTMLView",
            "style": "IPY_MODEL_a4646120246849bf873d9d32f12ba686",
            "_dom_classes": [],
            "description": "",
            "_model_name": "HTMLModel",
            "placeholder": "​",
            "_view_module": "@jupyter-widgets/controls",
            "_model_module_version": "1.5.0",
            "value": " 3/3 [00:41&lt;00:00, 13.68s/it]",
            "_view_count": null,
            "_view_module_version": "1.5.0",
            "description_tooltip": null,
            "_model_module": "@jupyter-widgets/controls",
            "layout": "IPY_MODEL_4c9492e7c7ed410bba4fc7dc3a697a32"
          }
        },
        "dbb6e1236a1c40bfb534fb2743c1b0e6": {
          "model_module": "@jupyter-widgets/controls",
          "model_name": "DescriptionStyleModel",
          "model_module_version": "1.5.0",
          "state": {
            "_view_name": "StyleView",
            "_model_name": "DescriptionStyleModel",
            "description_width": "",
            "_view_module": "@jupyter-widgets/base",
            "_model_module_version": "1.5.0",
            "_view_count": null,
            "_view_module_version": "1.2.0",
            "_model_module": "@jupyter-widgets/controls"
          }
        },
        "9e1798eaac3041c2925083b5a0507bd0": {
          "model_module": "@jupyter-widgets/base",
          "model_name": "LayoutModel",
          "model_module_version": "1.2.0",
          "state": {
            "_view_name": "LayoutView",
            "grid_template_rows": null,
            "right": null,
            "justify_content": null,
            "_view_module": "@jupyter-widgets/base",
            "overflow": null,
            "_model_module_version": "1.2.0",
            "_view_count": null,
            "flex_flow": null,
            "width": null,
            "min_width": null,
            "border": null,
            "align_items": null,
            "bottom": null,
            "_model_module": "@jupyter-widgets/base",
            "top": null,
            "grid_column": null,
            "overflow_y": null,
            "overflow_x": null,
            "grid_auto_flow": null,
            "grid_area": null,
            "grid_template_columns": null,
            "flex": null,
            "_model_name": "LayoutModel",
            "justify_items": null,
            "grid_row": null,
            "max_height": null,
            "align_content": null,
            "visibility": null,
            "align_self": null,
            "height": null,
            "min_height": null,
            "padding": null,
            "grid_auto_rows": null,
            "grid_gap": null,
            "max_width": null,
            "order": null,
            "_view_module_version": "1.2.0",
            "grid_template_areas": null,
            "object_position": null,
            "object_fit": null,
            "grid_auto_columns": null,
            "margin": null,
            "display": null,
            "left": null
          }
        },
        "404166b86a444cb4877a7618900a2c0e": {
          "model_module": "@jupyter-widgets/controls",
          "model_name": "ProgressStyleModel",
          "model_module_version": "1.5.0",
          "state": {
            "_view_name": "StyleView",
            "_model_name": "ProgressStyleModel",
            "description_width": "",
            "_view_module": "@jupyter-widgets/base",
            "_model_module_version": "1.5.0",
            "_view_count": null,
            "_view_module_version": "1.2.0",
            "bar_color": null,
            "_model_module": "@jupyter-widgets/controls"
          }
        },
        "485ff8e8c6f1423688e16b66de1f01b2": {
          "model_module": "@jupyter-widgets/base",
          "model_name": "LayoutModel",
          "model_module_version": "1.2.0",
          "state": {
            "_view_name": "LayoutView",
            "grid_template_rows": null,
            "right": null,
            "justify_content": null,
            "_view_module": "@jupyter-widgets/base",
            "overflow": null,
            "_model_module_version": "1.2.0",
            "_view_count": null,
            "flex_flow": null,
            "width": null,
            "min_width": null,
            "border": null,
            "align_items": null,
            "bottom": null,
            "_model_module": "@jupyter-widgets/base",
            "top": null,
            "grid_column": null,
            "overflow_y": null,
            "overflow_x": null,
            "grid_auto_flow": null,
            "grid_area": null,
            "grid_template_columns": null,
            "flex": null,
            "_model_name": "LayoutModel",
            "justify_items": null,
            "grid_row": null,
            "max_height": null,
            "align_content": null,
            "visibility": null,
            "align_self": null,
            "height": null,
            "min_height": null,
            "padding": null,
            "grid_auto_rows": null,
            "grid_gap": null,
            "max_width": null,
            "order": null,
            "_view_module_version": "1.2.0",
            "grid_template_areas": null,
            "object_position": null,
            "object_fit": null,
            "grid_auto_columns": null,
            "margin": null,
            "display": null,
            "left": null
          }
        },
        "a4646120246849bf873d9d32f12ba686": {
          "model_module": "@jupyter-widgets/controls",
          "model_name": "DescriptionStyleModel",
          "model_module_version": "1.5.0",
          "state": {
            "_view_name": "StyleView",
            "_model_name": "DescriptionStyleModel",
            "description_width": "",
            "_view_module": "@jupyter-widgets/base",
            "_model_module_version": "1.5.0",
            "_view_count": null,
            "_view_module_version": "1.2.0",
            "_model_module": "@jupyter-widgets/controls"
          }
        },
        "4c9492e7c7ed410bba4fc7dc3a697a32": {
          "model_module": "@jupyter-widgets/base",
          "model_name": "LayoutModel",
          "model_module_version": "1.2.0",
          "state": {
            "_view_name": "LayoutView",
            "grid_template_rows": null,
            "right": null,
            "justify_content": null,
            "_view_module": "@jupyter-widgets/base",
            "overflow": null,
            "_model_module_version": "1.2.0",
            "_view_count": null,
            "flex_flow": null,
            "width": null,
            "min_width": null,
            "border": null,
            "align_items": null,
            "bottom": null,
            "_model_module": "@jupyter-widgets/base",
            "top": null,
            "grid_column": null,
            "overflow_y": null,
            "overflow_x": null,
            "grid_auto_flow": null,
            "grid_area": null,
            "grid_template_columns": null,
            "flex": null,
            "_model_name": "LayoutModel",
            "justify_items": null,
            "grid_row": null,
            "max_height": null,
            "align_content": null,
            "visibility": null,
            "align_self": null,
            "height": null,
            "min_height": null,
            "padding": null,
            "grid_auto_rows": null,
            "grid_gap": null,
            "max_width": null,
            "order": null,
            "_view_module_version": "1.2.0",
            "grid_template_areas": null,
            "object_position": null,
            "object_fit": null,
            "grid_auto_columns": null,
            "margin": null,
            "display": null,
            "left": null
          }
        }
      }
    }
  },
  "cells": [
    {
      "cell_type": "markdown",
      "metadata": {
        "id": "CLrkyRc6-rD5"
      },
      "source": [
        "# Adversarial Robustness Toolkit\n",
        "\n"
      ]
    },
    {
      "cell_type": "markdown",
      "metadata": {
        "id": "JgG8sFK-sd1z"
      },
      "source": [
        "* Documentación: https://adversarial-robustness-toolbox.readthedocs.io/en/latest/\n",
        "* Código: https://github.com/Trusted-AI/adversarial-robustness-toolbox\n",
        "* Ejemplos: https://github.com/Trusted-AI/adversarial-robustness-toolbox/tree/main/examples"
      ]
    },
    {
      "cell_type": "markdown",
      "metadata": {
        "id": "NuoZ5bhE-2_0"
      },
      "source": [
        "## Instalación"
      ]
    },
    {
      "cell_type": "code",
      "metadata": {
        "id": "Zua3aciV-O5K",
        "colab": {
          "base_uri": "https://localhost:8080/"
        },
        "outputId": "eb773691-42af-49c0-a363-f69f9c5f5c1c"
      },
      "source": [
        "!pip install adversarial-robustness-toolbox==1.8.1"
      ],
      "execution_count": 1,
      "outputs": [
        {
          "output_type": "stream",
          "name": "stdout",
          "text": [
            "Requirement already satisfied: adversarial-robustness-toolbox==1.8.1 in /usr/local/lib/python3.7/dist-packages (1.8.1)\n",
            "Requirement already satisfied: numpy>=1.18.0 in /usr/local/lib/python3.7/dist-packages (from adversarial-robustness-toolbox==1.8.1) (1.19.5)\n",
            "Requirement already satisfied: six in /usr/local/lib/python3.7/dist-packages (from adversarial-robustness-toolbox==1.8.1) (1.15.0)\n",
            "Requirement already satisfied: tqdm in /usr/local/lib/python3.7/dist-packages (from adversarial-robustness-toolbox==1.8.1) (4.62.3)\n",
            "Requirement already satisfied: setuptools in /usr/local/lib/python3.7/dist-packages (from adversarial-robustness-toolbox==1.8.1) (57.4.0)\n",
            "Requirement already satisfied: scipy>=1.4.1 in /usr/local/lib/python3.7/dist-packages (from adversarial-robustness-toolbox==1.8.1) (1.4.1)\n",
            "Requirement already satisfied: scikit-learn<1.1.0,>=0.22.2 in /usr/local/lib/python3.7/dist-packages (from adversarial-robustness-toolbox==1.8.1) (1.0.1)\n",
            "Requirement already satisfied: numba>=0.53.1 in /usr/local/lib/python3.7/dist-packages (from adversarial-robustness-toolbox==1.8.1) (0.54.1)\n",
            "Requirement already satisfied: llvmlite<0.38,>=0.37.0rc1 in /usr/local/lib/python3.7/dist-packages (from numba>=0.53.1->adversarial-robustness-toolbox==1.8.1) (0.37.0)\n",
            "Requirement already satisfied: joblib>=0.11 in /usr/local/lib/python3.7/dist-packages (from scikit-learn<1.1.0,>=0.22.2->adversarial-robustness-toolbox==1.8.1) (1.1.0)\n",
            "Requirement already satisfied: threadpoolctl>=2.0.0 in /usr/local/lib/python3.7/dist-packages (from scikit-learn<1.1.0,>=0.22.2->adversarial-robustness-toolbox==1.8.1) (3.0.0)\n"
          ]
        }
      ]
    },
    {
      "cell_type": "code",
      "metadata": {
        "id": "1M8cmX6Y_MaU"
      },
      "source": [
        "import keras\n",
        "from keras.models import Sequential\n",
        "from keras.layers import Dense, Flatten, Conv2D, MaxPooling2D\n",
        "import numpy as np\n",
        "import matplotlib.pyplot as plt\n",
        "from art.utils import load_mnist"
      ],
      "execution_count": 2,
      "outputs": []
    },
    {
      "cell_type": "code",
      "metadata": {
        "id": "3JSlG18GC1RT"
      },
      "source": [
        "import tensorflow as tf\n",
        "tf.compat.v1.disable_eager_execution()\n",
        "\n",
        "import warnings\n",
        "warnings.filterwarnings('ignore')"
      ],
      "execution_count": 3,
      "outputs": []
    },
    {
      "cell_type": "code",
      "metadata": {
        "id": "6k-Q4bnG_SWG"
      },
      "source": [
        "%matplotlib inline"
      ],
      "execution_count": 4,
      "outputs": []
    },
    {
      "cell_type": "markdown",
      "metadata": {
        "id": "rYWQUSRC_WLT"
      },
      "source": [
        "## Cargar datos"
      ]
    },
    {
      "cell_type": "code",
      "metadata": {
        "id": "hq1wjOgu_a1U"
      },
      "source": [
        "(x_train, y_train), (x_test, y_test), min_pixel_value, max_pixel_value = load_mnist()"
      ],
      "execution_count": 5,
      "outputs": []
    },
    {
      "cell_type": "markdown",
      "metadata": {
        "id": "gGp89T6o_s3M"
      },
      "source": [
        "## Entrenar modelo"
      ]
    },
    {
      "cell_type": "code",
      "metadata": {
        "id": "gTOks8pDAObr"
      },
      "source": [
        "from art.estimators.classification import KerasClassifier"
      ],
      "execution_count": 6,
      "outputs": []
    },
    {
      "cell_type": "code",
      "metadata": {
        "id": "IwvRBqtoARMM",
        "colab": {
          "base_uri": "https://localhost:8080/"
        },
        "outputId": "ef99f5f9-7668-4fe1-d448-074aa99fa96e"
      },
      "source": [
        "model = Sequential()\n",
        "model.add(Conv2D(filters=4, kernel_size=(5, 5), strides=1, activation=\"relu\", input_shape=(28, 28, 1)))\n",
        "model.add(MaxPooling2D(pool_size=(2, 2)))\n",
        "model.add(Conv2D(filters=10, kernel_size=(5, 5), strides=1, activation=\"relu\", input_shape=(23, 23, 4)))\n",
        "model.add(MaxPooling2D(pool_size=(2, 2)))\n",
        "model.add(Flatten())\n",
        "model.add(Dense(100, activation=\"relu\"))\n",
        "model.add(Dense(10, activation=\"softmax\"))\n",
        "\n",
        "model.compile(loss=keras.losses.categorical_crossentropy, optimizer=tf.keras.optimizers.Adam(lr=0.01), metrics=[\"accuracy\"])\n",
        "classifier = KerasClassifier(model=model, clip_values=(min_pixel_value, max_pixel_value), use_logits=False)\n",
        "\n",
        "classifier.fit(x_train, y_train, batch_size=64, nb_epochs=3)"
      ],
      "execution_count": 7,
      "outputs": [
        {
          "output_type": "stream",
          "name": "stdout",
          "text": [
            "Train on 60000 samples\n",
            "Epoch 1/3\n",
            "60000/60000 [==============================] - 8s 141us/sample - loss: 0.1578 - accuracy: 0.9509\n",
            "Epoch 2/3\n",
            "60000/60000 [==============================] - 4s 69us/sample - loss: 0.0844 - accuracy: 0.9747\n",
            "Epoch 3/3\n",
            "60000/60000 [==============================] - 4s 66us/sample - loss: 0.0787 - accuracy: 0.9766\n"
          ]
        }
      ]
    },
    {
      "cell_type": "code",
      "metadata": {
        "id": "HoS7HK-8ATSa",
        "colab": {
          "base_uri": "https://localhost:8080/"
        },
        "outputId": "a37219ef-6d41-4756-880b-f68e8aa7ba4a"
      },
      "source": [
        "predictions_test = classifier.predict(x_test)\n",
        "accuracy = np.sum(np.argmax(predictions_test, axis=1) == np.argmax(y_test, axis=1)) / len(y_test)\n",
        "print(\"Accuracy on test examples: {0:.2f}%\".format(accuracy * 100))"
      ],
      "execution_count": 8,
      "outputs": [
        {
          "output_type": "stream",
          "name": "stdout",
          "text": [
            "Accuracy on test examples: 97.89%\n"
          ]
        }
      ]
    },
    {
      "cell_type": "markdown",
      "metadata": {
        "id": "8RjSGz4MAa5n"
      },
      "source": [
        "# Ataques de evasión"
      ]
    },
    {
      "cell_type": "markdown",
      "metadata": {
        "id": "SR-gnZi-Jp0S"
      },
      "source": [
        "## Generar ejemplos adversarios"
      ]
    },
    {
      "cell_type": "code",
      "metadata": {
        "id": "LzFU47WnAd9T"
      },
      "source": [
        "from art.attacks.evasion import FastGradientMethod, SaliencyMapMethod, CarliniL2Method"
      ],
      "execution_count": 9,
      "outputs": []
    },
    {
      "cell_type": "code",
      "metadata": {
        "id": "QH6qevlrAkGh"
      },
      "source": [
        "attack_fgm = FastGradientMethod(estimator = classifier, eps = 0.2)\n",
        "x_test_fgm = attack_fgm.generate(x=x_test)"
      ],
      "execution_count": 10,
      "outputs": []
    },
    {
      "cell_type": "code",
      "metadata": {
        "id": "awFmtipPFFla",
        "colab": {
          "base_uri": "https://localhost:8080/"
        },
        "outputId": "14672626-64de-4d74-ea3c-301225c3aa13"
      },
      "source": [
        "predictions_test = classifier.predict(x_test_fgm)\n",
        "accuracy = np.sum(np.argmax(predictions_test, axis=1) == np.argmax(y_test, axis=1)) / len(y_test)\n",
        "print(\"Accuracy on test adversarial examples: {0:.2f}%\".format(accuracy * 100))"
      ],
      "execution_count": 11,
      "outputs": [
        {
          "output_type": "stream",
          "name": "stdout",
          "text": [
            "Accuracy on test adversarial examples: 34.70%\n"
          ]
        }
      ]
    },
    {
      "cell_type": "markdown",
      "metadata": {
        "id": "THJtvETx17eH"
      },
      "source": [
        "## Ataque no dirigido"
      ]
    },
    {
      "cell_type": "code",
      "metadata": {
        "id": "gYmcNjfG8Ypr",
        "colab": {
          "base_uri": "https://localhost:8080/"
        },
        "outputId": "d1574fe7-c1e4-4df9-d54f-f38a97b65375"
      },
      "source": [
        "# Ataque no dirigido\n",
        "best = (100, 0, None, None) # (acc, eps, x_test_fgm, predictions)\n",
        "for eps in np.arange(0.0, 1.0, 0.1):\n",
        "  attack_fgm = FastGradientMethod(estimator = classifier, eps = eps)\n",
        "  x_test_fgm = attack_fgm.generate(x=x_test)\n",
        "  predictions_test = classifier.predict(x_test_fgm)\n",
        "  accuracy = np.sum(np.argmax(predictions_test, axis=1) == np.argmax(y_test, axis=1)) / len(y_test)\n",
        "  if(accuracy < best[0]):\n",
        "    best = (accuracy, eps, x_test_fgm, predictions_test)\n",
        "  print(\"Accuracy on test adversarial examples: {:.2f}% (eps={:.2f})\".format(accuracy * 100, eps))\n",
        "print(\"Best results: accuracy: {:.2f}%  eps={:.2f}\".format(best[0] * 100, best[1]))"
      ],
      "execution_count": 12,
      "outputs": [
        {
          "output_type": "stream",
          "name": "stdout",
          "text": [
            "Accuracy on test adversarial examples: 97.89% (eps=0.00)\n",
            "Accuracy on test adversarial examples: 69.01% (eps=0.10)\n",
            "Accuracy on test adversarial examples: 34.70% (eps=0.20)\n",
            "Accuracy on test adversarial examples: 21.60% (eps=0.30)\n",
            "Accuracy on test adversarial examples: 17.11% (eps=0.40)\n",
            "Accuracy on test adversarial examples: 15.09% (eps=0.50)\n",
            "Accuracy on test adversarial examples: 14.67% (eps=0.60)\n",
            "Accuracy on test adversarial examples: 15.49% (eps=0.70)\n",
            "Accuracy on test adversarial examples: 17.37% (eps=0.80)\n",
            "Accuracy on test adversarial examples: 18.59% (eps=0.90)\n",
            "Best results: accuracy: 14.67%  eps=0.60\n"
          ]
        }
      ]
    },
    {
      "cell_type": "markdown",
      "metadata": {
        "id": "noyhMckN1_JK"
      },
      "source": [
        "## Ataque dirigido"
      ]
    },
    {
      "cell_type": "code",
      "metadata": {
        "id": "O3Lnxy3W7fqe"
      },
      "source": [
        "from art.utils import to_categorical"
      ],
      "execution_count": 13,
      "outputs": []
    },
    {
      "cell_type": "code",
      "metadata": {
        "id": "ZWISeIXx-0sy",
        "colab": {
          "base_uri": "https://localhost:8080/"
        },
        "outputId": "f0831f85-c64e-41f2-a763-adc1e74ede86"
      },
      "source": [
        "# Ataque dirigido\n",
        "y = np.ones(len(y_test))*9\n",
        "y_targeted = to_categorical(y, nb_classes=10)\n",
        "best_targeted = (0, 0.1, None, None) # (acc, eps, x_test_fgm, predictions)\n",
        "for eps in np.arange(0.1, 1.0, 0.1):\n",
        "  attack_fgm = FastGradientMethod(estimator = classifier, eps = eps, targeted=True)\n",
        "  x_test_fgm = attack_fgm.generate(x=x_test, y=y_targeted)\n",
        "  predictions_test = classifier.predict(x_test_fgm)\n",
        "  accuracy = np.sum(np.argmax(predictions_test, axis=1) == np.argmax(y_targeted, axis=1)) / len(y_targeted)\n",
        "  if(accuracy > best_targeted[0]):\n",
        "    best_targeted = (accuracy, eps, x_test_fgm, predictions_test)\n",
        "  print(\"Accuracy on test adversarial examples: {:.2f}% (eps={:.2f})\".format(accuracy * 100, eps))\n",
        "print(\"Best results (targeted): accuracy: {:.2f}%  eps={:.2f}\".format(best_targeted[0] * 100, best_targeted[1]))"
      ],
      "execution_count": 14,
      "outputs": [
        {
          "output_type": "stream",
          "name": "stdout",
          "text": [
            "Accuracy on test adversarial examples: 16.97% (eps=0.10)\n",
            "Accuracy on test adversarial examples: 28.28% (eps=0.20)\n",
            "Accuracy on test adversarial examples: 27.38% (eps=0.30)\n",
            "Accuracy on test adversarial examples: 23.55% (eps=0.40)\n",
            "Accuracy on test adversarial examples: 19.48% (eps=0.50)\n",
            "Accuracy on test adversarial examples: 16.09% (eps=0.60)\n",
            "Accuracy on test adversarial examples: 13.51% (eps=0.70)\n",
            "Accuracy on test adversarial examples: 11.33% (eps=0.80)\n",
            "Accuracy on test adversarial examples: 9.99% (eps=0.90)\n",
            "Best results (targeted): accuracy: 28.28%  eps=0.20\n"
          ]
        }
      ]
    },
    {
      "cell_type": "code",
      "metadata": {
        "id": "udwfxbJoE9hM",
        "colab": {
          "base_uri": "https://localhost:8080/",
          "height": 290
        },
        "outputId": "c7673359-f518-43ff-8c8f-8e6eb0dfcc5a"
      },
      "source": [
        "sample = 1234\n",
        "fig = plt.figure(figsize=(20,10))\n",
        "ax = fig.add_subplot(1, 4, 1)\n",
        "ax.imshow(x_test[sample].reshape((28, 28)), cmap='gray', interpolation='none')\n",
        "ax.set_title(\"Original: {}\".format(np.argmax(y_test[sample])))\n",
        "ax.axis('off')\n",
        "ax = fig.add_subplot(1, 4, 2)\n",
        "ax.imshow(best[2][sample].reshape((28, 28)), cmap='gray', interpolation='none')\n",
        "ax.set_title(\"Adversarial (FGSM): {}\".format(np.argmax(best[3][sample])))\n",
        "ax.axis('off')\n",
        "ax = fig.add_subplot(1, 4, 3)\n",
        "ax.imshow(best_targeted[2][sample].reshape((28, 28)), cmap='gray', interpolation='none')\n",
        "ax.set_title(\"Adversarial (FGSM - targeted): {}\".format(np.argmax(best_targeted[3][sample])))\n",
        "ax.axis('off')\n",
        "fig.show()"
      ],
      "execution_count": 31,
      "outputs": [
        {
          "output_type": "display_data",
          "data": {
            "image/png": "[encoded data removed]",
            "text/plain": [
              "<Figure size 1440x720 with 3 Axes>"
            ]
          },
          "metadata": {
            "needs_background": "light"
          }
        }
      ]
    },
    {
      "cell_type": "markdown",
      "metadata": {
        "id": "O_GYhKOCB6SS"
      },
      "source": [
        "## Otros métodos de ataque"
      ]
    },
    {
      "cell_type": "code",
      "metadata": {
        "id": "9w5pLUQrAo4e"
      },
      "source": [
        "# Más métodos se pueden encontrar en \n",
        "# https://adversarial-robustness-toolbox.readthedocs.io/en/latest/modules/attacks/evasion.html\n",
        "\n",
        "# Estos métodos tardan bastante más tiempo en ejecutar.\n",
        "\n",
        "# JSMA\n",
        "# attack_jsma = SaliencyMapMethod(classifier = classifier, theta = 0.1)\n",
        "# x_test_jsma = attack_jsma.generate(x=x_test)\n",
        "\n",
        "# Carlini&Wagner\n",
        "# attack_cw2 = CarliniL2Method(classifier = classifier)\n",
        "# x_test_cw2 = attack_cw2.generate(x=x_test)"
      ],
      "execution_count": 16,
      "outputs": []
    },
    {
      "cell_type": "markdown",
      "metadata": {
        "id": "bXZyqv27Ag9N"
      },
      "source": [
        "## Entrenamiento adversario"
      ]
    },
    {
      "cell_type": "code",
      "metadata": {
        "id": "lmH04l3D3wlr"
      },
      "source": [
        "(x_train, y_train), (x_test, y_test), min_pixel_value, max_pixel_value = load_mnist()"
      ],
      "execution_count": 17,
      "outputs": []
    },
    {
      "cell_type": "code",
      "metadata": {
        "id": "hZtOAlI5BGX2"
      },
      "source": [
        "attack_fgm = FastGradientMethod(estimator = classifier, eps = 0.6)\n",
        "x_train_fgm = attack_fgm.generate(x=x_train)\n",
        "x_test_fgm = attack_fgm.generate(x=x_test)"
      ],
      "execution_count": 18,
      "outputs": []
    },
    {
      "cell_type": "code",
      "metadata": {
        "id": "BggbW6KoBJNk"
      },
      "source": [
        "x_train = np.append(x_train, x_train_fgm, axis=0)\n",
        "y_train = np.append(y_train, y_train, axis=0)"
      ],
      "execution_count": 19,
      "outputs": []
    },
    {
      "cell_type": "code",
      "metadata": {
        "id": "IOdjNpvJBLIz",
        "colab": {
          "base_uri": "https://localhost:8080/"
        },
        "outputId": "22324512-f722-4566-dcb3-e2898acfd2f0"
      },
      "source": [
        "model.compile(loss=keras.losses.categorical_crossentropy, optimizer=tf.keras.optimizers.Adam(lr=0.01), metrics=[\"accuracy\"])\n",
        "\n",
        "classifier.fit(x_train, y_train, batch_size=64, nb_epochs=3)"
      ],
      "execution_count": 20,
      "outputs": [
        {
          "output_type": "stream",
          "name": "stdout",
          "text": [
            "Train on 120000 samples\n",
            "Epoch 1/3\n",
            "120000/120000 [==============================] - 8s 70us/sample - loss: 0.3036 - accuracy: 0.9021\n",
            "Epoch 2/3\n",
            "120000/120000 [==============================] - 8s 69us/sample - loss: 0.2044 - accuracy: 0.9355\n",
            "Epoch 3/3\n",
            "120000/120000 [==============================] - 8s 68us/sample - loss: 0.1923 - accuracy: 0.9404\n"
          ]
        }
      ]
    },
    {
      "cell_type": "code",
      "metadata": {
        "id": "2WLDCQoIBRiT",
        "colab": {
          "base_uri": "https://localhost:8080/"
        },
        "outputId": "cab5db56-a7af-40bd-dcfc-d537c2b44423"
      },
      "source": [
        "predictions_test = classifier.predict(x_test)\n",
        "accuracy = np.sum(np.argmax(predictions_test, axis=1) == np.argmax(y_test, axis=1)) / len(y_test)\n",
        "print(\"Accuracy on test examples: {0:.2f}%\".format(accuracy * 100))\n",
        "\n",
        "predictions_fsm = classifier.predict(x_test_fgm)\n",
        "accuracy = np.sum(np.argmax(predictions_fsm, axis=1) == np.argmax(y_test, axis=1)) / len(y_test)\n",
        "print(\"Accuracy on adversarial test examples for FSGM attack: {0:.2f}%\".format(accuracy * 100))"
      ],
      "execution_count": 21,
      "outputs": [
        {
          "output_type": "stream",
          "name": "stdout",
          "text": [
            "Accuracy on test examples: 96.49%\n",
            "Accuracy on adversarial test examples for FSGM attack: 88.93%\n"
          ]
        }
      ]
    },
    {
      "cell_type": "markdown",
      "metadata": {
        "id": "FaoK60dJcHcy"
      },
      "source": [
        "## Entrenamiento adversario de forma nativa"
      ]
    },
    {
      "cell_type": "code",
      "metadata": {
        "id": "brtrAWaCUSmz"
      },
      "source": [
        "from art.defences.trainer import AdversarialTrainer"
      ],
      "execution_count": 22,
      "outputs": []
    },
    {
      "cell_type": "code",
      "metadata": {
        "id": "AE_5ZSKLUuCu"
      },
      "source": [
        "model.compile(loss=keras.losses.categorical_crossentropy, optimizer=tf.keras.optimizers.Adam(lr=0.01), metrics=[\"accuracy\"])"
      ],
      "execution_count": 23,
      "outputs": []
    },
    {
      "cell_type": "code",
      "metadata": {
        "id": "7zL6s6qfUZ4Y"
      },
      "source": [
        "defence = AdversarialTrainer(classifier=classifier, attacks=attack_fgm, ratio=0.6)"
      ],
      "execution_count": 24,
      "outputs": []
    },
    {
      "cell_type": "code",
      "metadata": {
        "id": "TXRJQTipVFuu"
      },
      "source": [
        "(x_train, y_train), (x_test, y_test), min_pixel_value, max_pixel_value = load_mnist()"
      ],
      "execution_count": 25,
      "outputs": []
    },
    {
      "cell_type": "code",
      "metadata": {
        "id": "ww6WB1BjU59K",
        "colab": {
          "base_uri": "https://localhost:8080/",
          "height": 81,
          "referenced_widgets": [
            "1de560444d484f3eaab695a34b2f6a6b",
            "4108c6d12b994efaaa7a8790069d63f7",
            "9a18793195e34ba0bb457774402544ee",
            "27de83d71c9f4a808da44be4ba7cb710",
            "1611b759fcf243edbc25c36d1b66d5c2",
            "3f73f6b212ec4c09908f3335e04f819b",
            "7b5e70a0ee1645699683d2dfe9bac4b0",
            "5b47f317b5ce4bc09b26653b9e5de0b7",
            "513b5a2e127e480fa304d98990a57b83",
            "c7d6b166939d42138bbbdc5ad7a02f82",
            "3824196fd2184a158ab6d48ccceed2db",
            "d0d7c36f39ab48f6a33075634b4109b1",
            "85eee7953ce741dba04fb342b815e49f",
            "8e8c66d0aed64908be123a40d9e7bf1a",
            "932ebd0f8e1d4cbeb60bdc51bbd4d12f",
            "2f82816aa6cb47d98278f30e42249880",
            "dbb6e1236a1c40bfb534fb2743c1b0e6",
            "9e1798eaac3041c2925083b5a0507bd0",
            "404166b86a444cb4877a7618900a2c0e",
            "485ff8e8c6f1423688e16b66de1f01b2",
            "a4646120246849bf873d9d32f12ba686",
            "4c9492e7c7ed410bba4fc7dc3a697a32"
          ]
        },
        "outputId": "bf47281b-a8f3-4817-f130-645ca6e53e74"
      },
      "source": [
        "defence.fit(x=x_train, y=y_train, nb_epochs=3)"
      ],
      "execution_count": 26,
      "outputs": [
        {
          "output_type": "display_data",
          "data": {
            "application/vnd.jupyter.widget-view+json": {
              "model_id": "1de560444d484f3eaab695a34b2f6a6b",
              "version_minor": 0,
              "version_major": 2
            },
            "text/plain": [
              "Precompute adv samples:   0%|          | 0/1 [00:00<?, ?it/s]"
            ]
          },
          "metadata": {}
        },
        {
          "output_type": "display_data",
          "data": {
            "application/vnd.jupyter.widget-view+json": {
              "model_id": "d0d7c36f39ab48f6a33075634b4109b1",
              "version_minor": 0,
              "version_major": 2
            },
            "text/plain": [
              "Adversarial training epochs:   0%|          | 0/3 [00:00<?, ?it/s]"
            ]
          },
          "metadata": {}
        }
      ]
    },
    {
      "cell_type": "code",
      "metadata": {
        "id": "60HDLfwbVOiV",
        "colab": {
          "base_uri": "https://localhost:8080/"
        },
        "outputId": "6cd9922d-304d-47fb-bb68-a191c633395c"
      },
      "source": [
        "predictions_test = classifier.predict(x_test)\n",
        "accuracy = np.sum(np.argmax(predictions_test, axis=1) == np.argmax(y_test, axis=1)) / len(y_test)\n",
        "print(\"Accuracy on test examples: {0:.2f}%\".format(accuracy * 100))\n",
        "\n",
        "predictions_fgm = defence.predict(x_test_fgm)\n",
        "accuracy = np.sum(np.argmax(predictions_fgm, axis=1) == np.argmax(y_test, axis=1)) / len(y_test)\n",
        "print(\"Accuracy on adversarial test examples for FGM attack: {0:.2f}%\".format(accuracy * 100))"
      ],
      "execution_count": 27,
      "outputs": [
        {
          "output_type": "stream",
          "name": "stdout",
          "text": [
            "Accuracy on test examples: 96.68%\n",
            "Accuracy on adversarial test examples for FGM attack: 61.50%\n"
          ]
        }
      ]
    }
  ]
}