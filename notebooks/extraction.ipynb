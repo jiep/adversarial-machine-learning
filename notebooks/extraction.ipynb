{
  "nbformat": 4,
  "nbformat_minor": 0,
  "metadata": {
    "colab": {
      "name": "extraction",
      "provenance": [],
      "collapsed_sections": []
    },
    "kernelspec": {
      "name": "python3",
      "display_name": "Python 3"
    },
    "accelerator": "GPU"
  },
  "cells": [
    {
      "cell_type": "markdown",
      "metadata": {
        "id": "CLrkyRc6-rD5"
      },
      "source": [
        "# Adversarial Robustness Toolkit\n",
        "\n",
        "* Documentación: https://adversarial-robustness-toolbox.readthedocs.io/en/latest/\n",
        "* Código: https://github.com/Trusted-AI/adversarial-robustness-toolbox\n",
        "* Ejemplos: https://github.com/Trusted-AI/adversarial-robustness-toolbox/tree/main/examples"
      ]
    },
    {
      "cell_type": "markdown",
      "metadata": {
        "id": "NuoZ5bhE-2_0"
      },
      "source": [
        "## Instalación"
      ]
    },
    {
      "cell_type": "code",
      "metadata": {
        "id": "Zua3aciV-O5K",
        "colab": {
          "base_uri": "https://localhost:8080/"
        },
        "outputId": "c4431b55-6432-4bc6-a057-86cc17282965"
      },
      "source": [
        "!pip install adversarial-robustness-toolbox==1.8.1"
      ],
      "execution_count": 1,
      "outputs": [
        {
          "output_type": "stream",
          "name": "stdout",
          "text": [
            "Collecting adversarial-robustness-toolbox==1.8.1\n",
            "  Downloading adversarial_robustness_toolbox-1.8.1-py3-none-any.whl (1.1 MB)\n",
            "\u001b[K     |████████████████████████████████| 1.1 MB 5.3 MB/s \n",
            "\u001b[?25hCollecting numba>=0.53.1\n",
            "  Downloading numba-0.54.1-cp37-cp37m-manylinux2014_x86_64.manylinux_2_17_x86_64.whl (3.3 MB)\n",
            "\u001b[K     |████████████████████████████████| 3.3 MB 30.3 MB/s \n",
            "\u001b[?25hRequirement already satisfied: setuptools in /usr/local/lib/python3.7/dist-packages (from adversarial-robustness-toolbox==1.8.1) (57.4.0)\n",
            "Requirement already satisfied: tqdm in /usr/local/lib/python3.7/dist-packages (from adversarial-robustness-toolbox==1.8.1) (4.62.3)\n",
            "Requirement already satisfied: six in /usr/local/lib/python3.7/dist-packages (from adversarial-robustness-toolbox==1.8.1) (1.15.0)\n",
            "Requirement already satisfied: numpy>=1.18.0 in /usr/local/lib/python3.7/dist-packages (from adversarial-robustness-toolbox==1.8.1) (1.19.5)\n",
            "Requirement already satisfied: scikit-learn<1.1.0,>=0.22.2 in /usr/local/lib/python3.7/dist-packages (from adversarial-robustness-toolbox==1.8.1) (1.0.1)\n",
            "Requirement already satisfied: scipy>=1.4.1 in /usr/local/lib/python3.7/dist-packages (from adversarial-robustness-toolbox==1.8.1) (1.4.1)\n",
            "Collecting llvmlite<0.38,>=0.37.0rc1\n",
            "  Downloading llvmlite-0.37.0-cp37-cp37m-manylinux2014_x86_64.whl (26.3 MB)\n",
            "\u001b[K     |████████████████████████████████| 26.3 MB 1.9 MB/s \n",
            "\u001b[?25hRequirement already satisfied: joblib>=0.11 in /usr/local/lib/python3.7/dist-packages (from scikit-learn<1.1.0,>=0.22.2->adversarial-robustness-toolbox==1.8.1) (1.1.0)\n",
            "Requirement already satisfied: threadpoolctl>=2.0.0 in /usr/local/lib/python3.7/dist-packages (from scikit-learn<1.1.0,>=0.22.2->adversarial-robustness-toolbox==1.8.1) (3.0.0)\n",
            "Installing collected packages: llvmlite, numba, adversarial-robustness-toolbox\n",
            "  Attempting uninstall: llvmlite\n",
            "    Found existing installation: llvmlite 0.34.0\n",
            "    Uninstalling llvmlite-0.34.0:\n",
            "      Successfully uninstalled llvmlite-0.34.0\n",
            "  Attempting uninstall: numba\n",
            "    Found existing installation: numba 0.51.2\n",
            "    Uninstalling numba-0.51.2:\n",
            "      Successfully uninstalled numba-0.51.2\n",
            "Successfully installed adversarial-robustness-toolbox-1.8.1 llvmlite-0.37.0 numba-0.54.1\n"
          ]
        }
      ]
    },
    {
      "cell_type": "code",
      "metadata": {
        "id": "1M8cmX6Y_MaU"
      },
      "source": [
        "import keras\n",
        "import tensorflow as tf\n",
        "from keras.models import Sequential\n",
        "from keras.layers import Dense, Flatten, Conv2D, MaxPooling2D, Dropout\n",
        "import numpy as np\n",
        "import matplotlib.pyplot as plt\n",
        "from art.utils import load_mnist"
      ],
      "execution_count": 2,
      "outputs": []
    },
    {
      "cell_type": "code",
      "metadata": {
        "id": "3JSlG18GC1RT"
      },
      "source": [
        "from tensorflow.python.framework.ops import disable_eager_execution\n",
        "disable_eager_execution()\n",
        "\n",
        "import warnings\n",
        "warnings.filterwarnings('ignore')"
      ],
      "execution_count": 3,
      "outputs": []
    },
    {
      "cell_type": "code",
      "metadata": {
        "id": "6k-Q4bnG_SWG"
      },
      "source": [
        "%matplotlib inline"
      ],
      "execution_count": 4,
      "outputs": []
    },
    {
      "cell_type": "markdown",
      "metadata": {
        "id": "rYWQUSRC_WLT"
      },
      "source": [
        "## Cargar datos"
      ]
    },
    {
      "cell_type": "code",
      "metadata": {
        "id": "hq1wjOgu_a1U"
      },
      "source": [
        "(x_train, y_train), (x_test, y_test), min_pixel_value, max_pixel_value = load_mnist()"
      ],
      "execution_count": 5,
      "outputs": []
    },
    {
      "cell_type": "markdown",
      "metadata": {
        "id": "gGp89T6o_s3M"
      },
      "source": [
        "## Entrenar modelo"
      ]
    },
    {
      "cell_type": "code",
      "metadata": {
        "id": "gTOks8pDAObr"
      },
      "source": [
        "from art.estimators.classification import KerasClassifier"
      ],
      "execution_count": 6,
      "outputs": []
    },
    {
      "cell_type": "code",
      "metadata": {
        "id": "IwvRBqtoARMM",
        "colab": {
          "base_uri": "https://localhost:8080/"
        },
        "outputId": "37549fca-7a37-4426-c2ff-edd73bb4ce19"
      },
      "source": [
        "model = Sequential()\n",
        "model.add(Conv2D(32, kernel_size=(3, 3), activation='relu', input_shape=(28, 28, 1)))\n",
        "model.add(MaxPooling2D(pool_size=(2, 2)))\n",
        "model.add(Conv2D(64, (3, 3), activation='relu'))\n",
        "model.add(MaxPooling2D(pool_size=(2, 2)))\n",
        "model.add(Dropout(0.25))\n",
        "model.add(Flatten())\n",
        "model.add(Dense(128, activation='relu'))\n",
        "model.add(Dense(10, activation='softmax'))\n",
        "\n",
        "model.compile(loss='categorical_crossentropy', optimizer='adam', metrics=['accuracy'])\n",
        "\n",
        "victim = KerasClassifier(model=model, clip_values=(min_pixel_value, max_pixel_value), use_logits=False)\n",
        "\n",
        "victim.fit(x_train, y_train, batch_size=128, nb_epochs=5)"
      ],
      "execution_count": 7,
      "outputs": [
        {
          "output_type": "stream",
          "name": "stdout",
          "text": [
            "Train on 60000 samples\n",
            "Epoch 1/5\n",
            "60000/60000 [==============================] - 17s 284us/sample - loss: 0.2147 - accuracy: 0.9353\n",
            "Epoch 2/5\n",
            "60000/60000 [==============================] - 4s 71us/sample - loss: 0.0648 - accuracy: 0.9791\n",
            "Epoch 3/5\n",
            "60000/60000 [==============================] - 4s 71us/sample - loss: 0.0452 - accuracy: 0.9860\n",
            "Epoch 4/5\n",
            "60000/60000 [==============================] - 4s 70us/sample - loss: 0.0364 - accuracy: 0.9887\n",
            "Epoch 5/5\n",
            "60000/60000 [==============================] - 4s 70us/sample - loss: 0.0282 - accuracy: 0.9911\n"
          ]
        }
      ]
    },
    {
      "cell_type": "code",
      "metadata": {
        "id": "HoS7HK-8ATSa",
        "colab": {
          "base_uri": "https://localhost:8080/"
        },
        "outputId": "7b576155-d0dd-4cdb-816d-e3c0d1b3df97"
      },
      "source": [
        "predictions_test = victim.predict(x_test)\n",
        "accuracy = np.sum(np.argmax(predictions_test, axis=1) == np.argmax(y_test, axis=1)) / len(y_test)\n",
        "print(\"Accuracy on test examples: {:.2f}%\".format(accuracy * 100))"
      ],
      "execution_count": 8,
      "outputs": [
        {
          "output_type": "stream",
          "name": "stdout",
          "text": [
            "Accuracy on test examples: 99.14%\n"
          ]
        }
      ]
    },
    {
      "cell_type": "markdown",
      "metadata": {
        "id": "2I0uYfvL8h2p"
      },
      "source": [
        "## Ataque de extracción"
      ]
    },
    {
      "cell_type": "code",
      "metadata": {
        "id": "6kQKxhSyAeCE"
      },
      "source": [
        "# Más ataques en\n",
        "# https://adversarial-robustness-toolbox.readthedocs.io/en/latest/modules/attacks/extraction.html\n",
        "\n",
        "from art.attacks.extraction import CopycatCNN"
      ],
      "execution_count": 9,
      "outputs": []
    },
    {
      "cell_type": "code",
      "metadata": {
        "id": "bmJhHIOx8lvD"
      },
      "source": [
        "max_requests = 5000 \n",
        "shuffle = np.random.permutation(len(x_test))\n",
        "x_stolen = x_test[shuffle[:max_requests]]\n",
        "y_stolen = y_test[shuffle[:max_requests]]"
      ],
      "execution_count": 10,
      "outputs": []
    },
    {
      "cell_type": "code",
      "metadata": {
        "id": "JH5tb4UZ9lfB"
      },
      "source": [
        "model_stolen = Sequential()\n",
        "model_stolen.add(Conv2D(32, kernel_size=(3, 3), activation='relu', input_shape=(28, 28, 1)))\n",
        "model_stolen.add(MaxPooling2D(pool_size=(2, 2)))\n",
        "model_stolen.add(Conv2D(64, (3, 3), activation='relu'))\n",
        "model_stolen.add(MaxPooling2D(pool_size=(2, 2)))\n",
        "model_stolen.add(Dropout(0.25))\n",
        "model_stolen.add(Flatten())\n",
        "model_stolen.add(Dense(128, activation='relu'))\n",
        "model_stolen.add(Dense(10, activation='softmax'))\n",
        "\n",
        "model_stolen.compile(loss='categorical_crossentropy', optimizer='adam', metrics=['accuracy'])"
      ],
      "execution_count": 11,
      "outputs": []
    },
    {
      "cell_type": "code",
      "metadata": {
        "id": "3WHYWXWJ9QVd",
        "colab": {
          "base_uri": "https://localhost:8080/"
        },
        "outputId": "e88bf9df-ca35-4607-992f-13f230632c01"
      },
      "source": [
        "attack = CopycatCNN(classifier=victim, nb_epochs=5, nb_stolen=max_requests, use_probability=True)\n",
        "classifier_stolen = KerasClassifier(model_stolen, clip_values=(0, 1), use_logits=False)\n",
        "classifier_stolen = attack.extract(x_stolen, y_stolen, thieved_classifier=classifier_stolen)"
      ],
      "execution_count": 12,
      "outputs": [
        {
          "output_type": "stream",
          "name": "stdout",
          "text": [
            "Train on 5000 samples\n",
            "Epoch 1/5\n",
            "5000/5000 [==============================] - 25s 5ms/sample - loss: 0.2969 - accuracy: 0.9088\n",
            "Epoch 2/5\n",
            "5000/5000 [==============================] - 25s 5ms/sample - loss: 0.1248 - accuracy: 0.9654\n",
            "Epoch 3/5\n",
            "5000/5000 [==============================] - 25s 5ms/sample - loss: 0.0975 - accuracy: 0.9762\n",
            "Epoch 4/5\n",
            "5000/5000 [==============================] - 25s 5ms/sample - loss: 0.0835 - accuracy: 0.9810\n",
            "Epoch 5/5\n",
            "5000/5000 [==============================] - 25s 5ms/sample - loss: 0.0792 - accuracy: 0.9806\n"
          ]
        }
      ]
    },
    {
      "cell_type": "code",
      "metadata": {
        "id": "V8Yx2ttX91DS",
        "colab": {
          "base_uri": "https://localhost:8080/"
        },
        "outputId": "5d4bfcfd-77f0-4a28-fae4-91ac579f4f8b"
      },
      "source": [
        "predictions_stolen = classifier_stolen.predict(x_test)\n",
        "accuracy = np.sum(np.argmax(predictions_stolen, axis=1) == np.argmax(y_test, axis=1)) / len(y_test)\n",
        "print(\"Accuracy on test examples (stolen model): {:.2f}%\".format(accuracy * 100))"
      ],
      "execution_count": 13,
      "outputs": [
        {
          "output_type": "stream",
          "name": "stdout",
          "text": [
            "Accuracy on test examples (stolen model): 98.58%\n"
          ]
        }
      ]
    },
    {
      "cell_type": "markdown",
      "metadata": {
        "id": "4mFwoBCTIW3e"
      },
      "source": [
        "# Defensas"
      ]
    },
    {
      "cell_type": "code",
      "metadata": {
        "id": "zGcq5sH2zJ1_"
      },
      "source": [
        "# Más defensas en\n",
        "# https://adversarial-robustness-toolbox.readthedocs.io/en/latest/modules/defences/postprocessor.html\n",
        "\n",
        "from art.defences.postprocessor import Rounded, GaussianNoise, ReverseSigmoid"
      ],
      "execution_count": 14,
      "outputs": []
    },
    {
      "cell_type": "code",
      "metadata": {
        "id": "G9s4tJLvzLTi"
      },
      "source": [
        "postprocessor_rounded = Rounded(decimals=1)"
      ],
      "execution_count": 16,
      "outputs": []
    },
    {
      "cell_type": "code",
      "metadata": {
        "id": "_dHYz36Q1hsB"
      },
      "source": [
        "postprocessor_gaussian = GaussianNoise(scale=0.1)"
      ],
      "execution_count": 17,
      "outputs": []
    },
    {
      "cell_type": "code",
      "metadata": {
        "id": "-68Yu_oRDFN1"
      },
      "source": [
        "postprocessor_reverse_sigmoid = ReverseSigmoid(beta=1.0, gamma=0.5)"
      ],
      "execution_count": 18,
      "outputs": []
    },
    {
      "cell_type": "code",
      "metadata": {
        "id": "mcpHJCaP22Qg",
        "colab": {
          "base_uri": "https://localhost:8080/"
        },
        "outputId": "86efb043-5939-4eb2-aa4c-2eee9fd12075"
      },
      "source": [
        "victim_defense = KerasClassifier(model=model, clip_values=(min_pixel_value, max_pixel_value), use_logits=False, postprocessing_defences=postprocessor_reverse_sigmoid)\n",
        "victim_defense.fit(x_train, y_train, batch_size=128, nb_epochs=5)"
      ],
      "execution_count": 19,
      "outputs": [
        {
          "output_type": "stream",
          "name": "stdout",
          "text": [
            "Train on 60000 samples\n",
            "Epoch 1/5\n",
            "60000/60000 [==============================] - 4s 73us/sample - loss: 0.0257 - accuracy: 0.9918\n",
            "Epoch 2/5\n",
            "60000/60000 [==============================] - 4s 70us/sample - loss: 0.0218 - accuracy: 0.9928\n",
            "Epoch 3/5\n",
            "60000/60000 [==============================] - 4s 70us/sample - loss: 0.0174 - accuracy: 0.9942\n",
            "Epoch 4/5\n",
            "60000/60000 [==============================] - 4s 71us/sample - loss: 0.0151 - accuracy: 0.9948\n",
            "Epoch 5/5\n",
            "60000/60000 [==============================] - 4s 71us/sample - loss: 0.0141 - accuracy: 0.9954\n"
          ]
        }
      ]
    },
    {
      "cell_type": "code",
      "metadata": {
        "id": "3qmENF0QHb2D",
        "colab": {
          "base_uri": "https://localhost:8080/"
        },
        "outputId": "d2dc7a0a-3faf-4be8-d85b-3f78f5d99cc1"
      },
      "source": [
        "predictions_victim_defense = victim_defense.predict(x_test)\n",
        "accuracy = np.sum(np.argmax(predictions_victim_defense, axis=1) == np.argmax(y_test, axis=1)) / len(y_test)\n",
        "print(\"Accuracy on test examples (protected): {:.2f}%\".format(accuracy * 100))"
      ],
      "execution_count": 20,
      "outputs": [
        {
          "output_type": "stream",
          "name": "stdout",
          "text": [
            "Accuracy on test examples (protected): 99.19%\n"
          ]
        }
      ]
    },
    {
      "cell_type": "code",
      "metadata": {
        "id": "OTJfO4OAEWtG"
      },
      "source": [
        "model_stolen_protected = Sequential()\n",
        "model_stolen_protected.add(Conv2D(32, kernel_size=(3, 3), activation='relu', input_shape=(28, 28, 1)))\n",
        "model_stolen_protected.add(MaxPooling2D(pool_size=(2, 2)))\n",
        "model_stolen_protected.add(Conv2D(64, (3, 3), activation='relu'))\n",
        "model_stolen_protected.add(MaxPooling2D(pool_size=(2, 2)))\n",
        "model_stolen_protected.add(Dropout(0.25))\n",
        "model_stolen_protected.add(Flatten())\n",
        "model_stolen_protected.add(Dense(128, activation='relu'))\n",
        "model_stolen_protected.add(Dense(10, activation='softmax'))\n",
        "model_stolen_protected.compile(loss='categorical_crossentropy', optimizer='adam', metrics=['accuracy'])"
      ],
      "execution_count": 21,
      "outputs": []
    },
    {
      "cell_type": "code",
      "metadata": {
        "id": "VmwEMUD2BD6W",
        "colab": {
          "base_uri": "https://localhost:8080/"
        },
        "outputId": "0bb8421e-78ea-48a8-9875-dfd6cf92e124"
      },
      "source": [
        "attack_protected = CopycatCNN(classifier=victim_defense, nb_epochs=5, nb_stolen=max_requests, use_probability=True)\n",
        "classifier_stolen_protected = KerasClassifier(model_stolen_protected, clip_values=(0, 1), use_logits=False)\n",
        "classifier_stolen_protected = attack_protected.extract(x_stolen, y_stolen, thieved_classifier=classifier_stolen_protected)"
      ],
      "execution_count": 22,
      "outputs": [
        {
          "output_type": "stream",
          "name": "stdout",
          "text": [
            "Train on 5000 samples\n",
            "Epoch 1/5\n",
            "5000/5000 [==============================] - 25s 5ms/sample - loss: 2.3026 - accuracy: 0.1034\n",
            "Epoch 2/5\n",
            "5000/5000 [==============================] - 24s 5ms/sample - loss: 2.3026 - accuracy: 0.1018\n",
            "Epoch 3/5\n",
            "5000/5000 [==============================] - 24s 5ms/sample - loss: 2.3026 - accuracy: 0.1052\n",
            "Epoch 4/5\n",
            "5000/5000 [==============================] - 24s 5ms/sample - loss: 2.3026 - accuracy: 0.1002\n",
            "Epoch 5/5\n",
            "5000/5000 [==============================] - 24s 5ms/sample - loss: 2.3026 - accuracy: 0.0920\n"
          ]
        }
      ]
    },
    {
      "cell_type": "code",
      "metadata": {
        "id": "k8D6kU5UIKij",
        "colab": {
          "base_uri": "https://localhost:8080/"
        },
        "outputId": "195a3c91-7c22-4475-c331-f5e97c71c39f"
      },
      "source": [
        "predictions_stolen_protected = classifier_stolen_protected.predict(x_test)\n",
        "accuracy = np.sum(np.argmax(predictions_stolen_protected, axis=1) == np.argmax(y_test, axis=1)) / len(y_test)\n",
        "print(\"Accuracy on test examples against protected model (stolen model): {:.2f}%\".format(accuracy * 100))"
      ],
      "execution_count": 23,
      "outputs": [
        {
          "output_type": "stream",
          "name": "stdout",
          "text": [
            "Accuracy on test examples against protected model (stolen model): 9.74%\n"
          ]
        }
      ]
    }
  ]
}