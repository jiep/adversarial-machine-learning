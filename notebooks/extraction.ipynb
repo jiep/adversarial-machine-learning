{
  "nbformat": 4,
  "nbformat_minor": 0,
  "metadata": {
    "colab": {
      "name": "extraction",
      "provenance": [],
      "collapsed_sections": []
    },
    "kernelspec": {
      "name": "python3",
      "display_name": "Python 3"
    },
    "accelerator": "GPU"
  },
  "cells": [
    {
      "cell_type": "markdown",
      "metadata": {
        "id": "CLrkyRc6-rD5"
      },
      "source": [
        "# Adversarial Robustness Toolkit\n",
        "\n",
        "* Documentación: https://adversarial-robustness-toolbox.readthedocs.io/en/latest/\n",
        "* Código: https://github.com/Trusted-AI/adversarial-robustness-toolbox\n",
        "* Ejemplos: https://github.com/Trusted-AI/adversarial-robustness-toolbox/tree/main/examples"
      ]
    },
    {
      "cell_type": "markdown",
      "metadata": {
        "id": "NuoZ5bhE-2_0"
      },
      "source": [
        "## Instalación"
      ]
    },
    {
      "cell_type": "code",
      "metadata": {
        "id": "Zua3aciV-O5K",
        "colab": {
          "base_uri": "https://localhost:8080/"
        },
        "outputId": "9d542d78-b31c-48dd-fea8-ac63eaed5617"
      },
      "source": [
        "!pip install adversarial-robustness-toolbox==1.8.1"
      ],
      "execution_count": null,
      "outputs": [
        {
          "output_type": "stream",
          "name": "stdout",
          "text": [
            "Requirement already satisfied: adversarial-robustness-toolbox==1.8.1 in /usr/local/lib/python3.7/dist-packages (1.8.1)\n",
            "Requirement already satisfied: numba>=0.53.1 in /usr/local/lib/python3.7/dist-packages (from adversarial-robustness-toolbox==1.8.1) (0.54.1)\n",
            "Requirement already satisfied: six in /usr/local/lib/python3.7/dist-packages (from adversarial-robustness-toolbox==1.8.1) (1.15.0)\n",
            "Requirement already satisfied: setuptools in /usr/local/lib/python3.7/dist-packages (from adversarial-robustness-toolbox==1.8.1) (57.4.0)\n",
            "Requirement already satisfied: numpy>=1.18.0 in /usr/local/lib/python3.7/dist-packages (from adversarial-robustness-toolbox==1.8.1) (1.19.5)\n",
            "Requirement already satisfied: scikit-learn<1.1.0,>=0.22.2 in /usr/local/lib/python3.7/dist-packages (from adversarial-robustness-toolbox==1.8.1) (0.22.2.post1)\n",
            "Requirement already satisfied: tqdm in /usr/local/lib/python3.7/dist-packages (from adversarial-robustness-toolbox==1.8.1) (4.62.3)\n",
            "Requirement already satisfied: scipy>=1.4.1 in /usr/local/lib/python3.7/dist-packages (from adversarial-robustness-toolbox==1.8.1) (1.4.1)\n",
            "Requirement already satisfied: llvmlite<0.38,>=0.37.0rc1 in /usr/local/lib/python3.7/dist-packages (from numba>=0.53.1->adversarial-robustness-toolbox==1.8.1) (0.37.0)\n",
            "Requirement already satisfied: joblib>=0.11 in /usr/local/lib/python3.7/dist-packages (from scikit-learn<1.1.0,>=0.22.2->adversarial-robustness-toolbox==1.8.1) (1.1.0)\n"
          ]
        }
      ]
    },
    {
      "cell_type": "markdown",
      "metadata": {
        "id": "w_hsWaY87AeA"
      },
      "source": [
        "## Instalación"
      ]
    },
    {
      "cell_type": "code",
      "metadata": {
        "id": "1M8cmX6Y_MaU"
      },
      "source": [
        "import keras\n",
        "import tensorflow as tf\n",
        "from keras.models import Sequential\n",
        "from keras.layers import Dense, Flatten, Conv2D, MaxPooling2D, Dropout\n",
        "import numpy as np\n",
        "import matplotlib.pyplot as plt\n",
        "from art.utils import load_mnist"
      ],
      "execution_count": null,
      "outputs": []
    },
    {
      "cell_type": "code",
      "metadata": {
        "id": "3JSlG18GC1RT"
      },
      "source": [
        "from tensorflow.python.framework.ops import disable_eager_execution\n",
        "disable_eager_execution()\n",
        "\n",
        "import warnings\n",
        "warnings.filterwarnings('ignore')"
      ],
      "execution_count": null,
      "outputs": []
    },
    {
      "cell_type": "code",
      "metadata": {
        "id": "6k-Q4bnG_SWG"
      },
      "source": [
        "%matplotlib inline"
      ],
      "execution_count": null,
      "outputs": []
    },
    {
      "cell_type": "markdown",
      "metadata": {
        "id": "rYWQUSRC_WLT"
      },
      "source": [
        "## Cargar datos"
      ]
    },
    {
      "cell_type": "code",
      "metadata": {
        "id": "hq1wjOgu_a1U"
      },
      "source": [
        "(x_train, y_train), (x_test, y_test), min_pixel_value, max_pixel_value = load_mnist()"
      ],
      "execution_count": null,
      "outputs": []
    },
    {
      "cell_type": "markdown",
      "metadata": {
        "id": "gGp89T6o_s3M"
      },
      "source": [
        "## Entrenar modelo"
      ]
    },
    {
      "cell_type": "code",
      "metadata": {
        "id": "gTOks8pDAObr"
      },
      "source": [
        "from art.estimators.classification import KerasClassifier"
      ],
      "execution_count": null,
      "outputs": []
    },
    {
      "cell_type": "code",
      "metadata": {
        "id": "IwvRBqtoARMM",
        "colab": {
          "base_uri": "https://localhost:8080/"
        },
        "outputId": "28cfec1c-250b-4531-86c7-385f1d1a1c89"
      },
      "source": [
        "model = Sequential()\n",
        "model.add(Conv2D(32, kernel_size=(3, 3), activation='relu', input_shape=(28, 28, 1)))\n",
        "model.add(MaxPooling2D(pool_size=(2, 2)))\n",
        "model.add(Conv2D(64, (3, 3), activation='relu'))\n",
        "model.add(MaxPooling2D(pool_size=(2, 2)))\n",
        "model.add(Dropout(0.25))\n",
        "model.add(Flatten())\n",
        "model.add(Dense(128, activation='relu'))\n",
        "model.add(Dense(10, activation='softmax'))\n",
        "\n",
        "model.compile(loss='categorical_crossentropy', optimizer='adam', metrics=['accuracy'])\n",
        "\n",
        "victim = KerasClassifier(model=model, clip_values=(min_pixel_value, max_pixel_value), use_logits=False)\n",
        "\n",
        "victim.fit(x_train, y_train, batch_size=128, nb_epochs=5)"
      ],
      "execution_count": null,
      "outputs": [
        {
          "output_type": "stream",
          "name": "stdout",
          "text": [
            "Train on 60000 samples\n",
            "Epoch 1/5\n",
            "60000/60000 [==============================] - 6s 94us/sample - loss: 0.2367 - accuracy: 0.9291\n",
            "Epoch 2/5\n",
            "60000/60000 [==============================] - 4s 70us/sample - loss: 0.0663 - accuracy: 0.9791\n",
            "Epoch 3/5\n",
            "60000/60000 [==============================] - 4s 72us/sample - loss: 0.0465 - accuracy: 0.9854\n",
            "Epoch 4/5\n",
            "60000/60000 [==============================] - 4s 69us/sample - loss: 0.0372 - accuracy: 0.9887\n",
            "Epoch 5/5\n",
            "60000/60000 [==============================] - 4s 69us/sample - loss: 0.0300 - accuracy: 0.9907\n"
          ]
        }
      ]
    },
    {
      "cell_type": "code",
      "metadata": {
        "id": "HoS7HK-8ATSa",
        "colab": {
          "base_uri": "https://localhost:8080/"
        },
        "outputId": "5fc631a9-2af0-47e8-957b-a3ce5fcd35af"
      },
      "source": [
        "predictions_test = victim.predict(x_test)\n",
        "accuracy = np.sum(np.argmax(predictions_test, axis=1) == np.argmax(y_test, axis=1)) / len(y_test)\n",
        "print(\"Accuracy on test examples: {:.2f}%\".format(accuracy * 100))"
      ],
      "execution_count": null,
      "outputs": [
        {
          "output_type": "stream",
          "name": "stdout",
          "text": [
            "Accuracy on test examples: 98.92%\n"
          ]
        }
      ]
    },
    {
      "cell_type": "markdown",
      "metadata": {
        "id": "2I0uYfvL8h2p"
      },
      "source": [
        "## Ataque de extracción"
      ]
    },
    {
      "cell_type": "code",
      "metadata": {
        "id": "6kQKxhSyAeCE"
      },
      "source": [
        "# Más ataques en\n",
        "# https://adversarial-robustness-toolbox.readthedocs.io/en/latest/modules/attacks/extraction.html\n",
        "\n",
        "from art.attacks.extraction import CopycatCNN"
      ],
      "execution_count": null,
      "outputs": []
    },
    {
      "cell_type": "code",
      "metadata": {
        "id": "bmJhHIOx8lvD"
      },
      "source": [
        "max_requests = 5000 \n",
        "shuffle = np.random.permutation(len(x_test))\n",
        "x_stolen = x_test[shuffle[:max_requests]]\n",
        "y_stolen = y_test[shuffle[:max_requests]]"
      ],
      "execution_count": null,
      "outputs": []
    },
    {
      "cell_type": "code",
      "metadata": {
        "id": "JH5tb4UZ9lfB"
      },
      "source": [
        "model_stolen = Sequential()\n",
        "model_stolen.add(Conv2D(32, kernel_size=(3, 3), activation='relu', input_shape=(28, 28, 1)))\n",
        "model_stolen.add(MaxPooling2D(pool_size=(2, 2)))\n",
        "model_stolen.add(Conv2D(64, (3, 3), activation='relu'))\n",
        "model_stolen.add(MaxPooling2D(pool_size=(2, 2)))\n",
        "model_stolen.add(Dropout(0.25))\n",
        "model_stolen.add(Flatten())\n",
        "model_stolen.add(Dense(128, activation='relu'))\n",
        "model_stolen.add(Dense(10, activation='softmax'))\n",
        "\n",
        "model_stolen.compile(loss='categorical_crossentropy', optimizer='adam', metrics=['accuracy'])"
      ],
      "execution_count": null,
      "outputs": []
    },
    {
      "cell_type": "code",
      "metadata": {
        "id": "3WHYWXWJ9QVd",
        "colab": {
          "base_uri": "https://localhost:8080/"
        },
        "outputId": "70cdc198-1ab5-4748-a575-0cb3a83ac921"
      },
      "source": [
        "attack = CopycatCNN(classifier=victim, nb_epochs=5, nb_stolen=max_requests, use_probability=True)\n",
        "classifier_stolen = KerasClassifier(model_stolen, clip_values=(0, 1), use_logits=False)\n",
        "classifier_stolen = attack.extract(x_stolen, y_stolen, thieved_classifier=classifier_stolen)"
      ],
      "execution_count": null,
      "outputs": [
        {
          "output_type": "stream",
          "name": "stdout",
          "text": [
            "Train on 5000 samples\n",
            "Epoch 1/5\n",
            "5000/5000 [==============================] - 27s 5ms/sample - loss: 0.3074 - accuracy: 0.9082\n",
            "Epoch 2/5\n",
            "5000/5000 [==============================] - 27s 5ms/sample - loss: 0.1201 - accuracy: 0.9638\n",
            "Epoch 3/5\n",
            "5000/5000 [==============================] - 27s 5ms/sample - loss: 0.0831 - accuracy: 0.9766\n",
            "Epoch 4/5\n",
            "5000/5000 [==============================] - 27s 5ms/sample - loss: 0.0776 - accuracy: 0.9788\n",
            "Epoch 5/5\n",
            "5000/5000 [==============================] - 27s 5ms/sample - loss: 0.0683 - accuracy: 0.9838\n"
          ]
        }
      ]
    },
    {
      "cell_type": "code",
      "metadata": {
        "id": "V8Yx2ttX91DS",
        "colab": {
          "base_uri": "https://localhost:8080/"
        },
        "outputId": "cf6a8fdb-c276-43d6-f62f-3b27a6f75b3a"
      },
      "source": [
        "predictions_stolen = classifier_stolen.predict(x_test)\n",
        "accuracy = np.sum(np.argmax(predictions_stolen, axis=1) == np.argmax(y_test, axis=1)) / len(y_test)\n",
        "print(\"Accuracy on test examples (stolen model): {:.2f}%\".format(accuracy * 100))"
      ],
      "execution_count": null,
      "outputs": [
        {
          "output_type": "stream",
          "name": "stdout",
          "text": [
            "Accuracy on test examples (stolen model): 98.21%\n"
          ]
        }
      ]
    },
    {
      "cell_type": "markdown",
      "metadata": {
        "id": "4mFwoBCTIW3e"
      },
      "source": [
        "# Defensas"
      ]
    },
    {
      "cell_type": "code",
      "metadata": {
        "id": "zGcq5sH2zJ1_"
      },
      "source": [
        "# Más defensas en\n",
        "# https://adversarial-robustness-toolbox.readthedocs.io/en/latest/modules/defences/postprocessor.html\n",
        "\n",
        "from art.defences.postprocessor import Rounded, GaussianNoise, ReverseSigmoid"
      ],
      "execution_count": null,
      "outputs": []
    },
    {
      "cell_type": "code",
      "metadata": {
        "id": "G9s4tJLvzLTi"
      },
      "source": [
        "postprocessor_rounded = Rounded(decimals=1)"
      ],
      "execution_count": null,
      "outputs": []
    },
    {
      "cell_type": "code",
      "metadata": {
        "id": "_dHYz36Q1hsB"
      },
      "source": [
        "postprocessor_gaussian = GaussianNoise(scale=0.1)"
      ],
      "execution_count": null,
      "outputs": []
    },
    {
      "cell_type": "code",
      "metadata": {
        "id": "-68Yu_oRDFN1"
      },
      "source": [
        "postprocessor_reverse_sigmoid = ReverseSigmoid(beta=1.0, gamma=0.5)"
      ],
      "execution_count": null,
      "outputs": []
    },
    {
      "cell_type": "code",
      "metadata": {
        "id": "mcpHJCaP22Qg",
        "colab": {
          "base_uri": "https://localhost:8080/"
        },
        "outputId": "5665d6d9-373c-4fd5-929f-b7d733a9ad43"
      },
      "source": [
        "victim_defense = KerasClassifier(model=model, clip_values=(min_pixel_value, max_pixel_value), use_logits=False, postprocessing_defences=postprocessor_reverse_sigmoid)\n",
        "victim_defense.fit(x_train, y_train, batch_size=128, nb_epochs=5)"
      ],
      "execution_count": null,
      "outputs": [
        {
          "output_type": "stream",
          "name": "stdout",
          "text": [
            "Train on 60000 samples\n",
            "Epoch 1/5\n",
            "60000/60000 [==============================] - 5s 79us/sample - loss: 0.0260 - accuracy: 0.9915\n",
            "Epoch 2/5\n",
            "60000/60000 [==============================] - 4s 72us/sample - loss: 0.0215 - accuracy: 0.9932\n",
            "Epoch 3/5\n",
            "60000/60000 [==============================] - 4s 71us/sample - loss: 0.0196 - accuracy: 0.9934\n",
            "Epoch 4/5\n",
            "60000/60000 [==============================] - 4s 72us/sample - loss: 0.0167 - accuracy: 0.9947\n",
            "Epoch 5/5\n",
            "60000/60000 [==============================] - 4s 70us/sample - loss: 0.0163 - accuracy: 0.9948\n"
          ]
        }
      ]
    },
    {
      "cell_type": "code",
      "metadata": {
        "id": "3qmENF0QHb2D",
        "colab": {
          "base_uri": "https://localhost:8080/"
        },
        "outputId": "cc26e3ea-8ebb-41ec-eaa5-ccb07ab7a446"
      },
      "source": [
        "predictions_victim_defense = victim_defense.predict(x_test)\n",
        "accuracy = np.sum(np.argmax(predictions_victim_defense, axis=1) == np.argmax(y_test, axis=1)) / len(y_test)\n",
        "print(\"Accuracy on test examples (protected): {:.2f}%\".format(accuracy * 100))"
      ],
      "execution_count": null,
      "outputs": [
        {
          "output_type": "stream",
          "name": "stdout",
          "text": [
            "Accuracy on test examples (protected): 99.14%\n"
          ]
        }
      ]
    },
    {
      "cell_type": "code",
      "metadata": {
        "id": "OTJfO4OAEWtG"
      },
      "source": [
        "model_stolen_protected = Sequential()\n",
        "model_stolen_protected.add(Conv2D(32, kernel_size=(3, 3), activation='relu', input_shape=(28, 28, 1)))\n",
        "model_stolen_protected.add(MaxPooling2D(pool_size=(2, 2)))\n",
        "model_stolen_protected.add(Conv2D(64, (3, 3), activation='relu'))\n",
        "model_stolen_protected.add(MaxPooling2D(pool_size=(2, 2)))\n",
        "model_stolen_protected.add(Dropout(0.25))\n",
        "model_stolen_protected.add(Flatten())\n",
        "model_stolen_protected.add(Dense(128, activation='relu'))\n",
        "model_stolen_protected.add(Dense(10, activation='softmax'))\n",
        "model_stolen_protected.compile(loss='categorical_crossentropy', optimizer='adam', metrics=['accuracy'])"
      ],
      "execution_count": null,
      "outputs": []
    },
    {
      "cell_type": "code",
      "metadata": {
        "id": "VmwEMUD2BD6W",
        "colab": {
          "base_uri": "https://localhost:8080/"
        },
        "outputId": "583cdf73-5cc6-4008-a111-4aa88e0eee05"
      },
      "source": [
        "attack_protected = CopycatCNN(classifier=victim_defense, nb_epochs=5, nb_stolen=max_requests, use_probability=True)\n",
        "classifier_stolen_protected = KerasClassifier(model_stolen_protected, clip_values=(0, 1), use_logits=False)\n",
        "classifier_stolen_protected = attack_protected.extract(x_stolen, y_stolen, thieved_classifier=classifier_stolen_protected)"
      ],
      "execution_count": null,
      "outputs": [
        {
          "output_type": "stream",
          "name": "stdout",
          "text": [
            "Train on 5000 samples\n",
            "Epoch 1/5\n",
            "5000/5000 [==============================] - 28s 6ms/sample - loss: 2.3026 - accuracy: 0.1432\n",
            "Epoch 2/5\n",
            "5000/5000 [==============================] - 28s 6ms/sample - loss: 2.3026 - accuracy: 0.1364\n",
            "Epoch 3/5\n",
            "5000/5000 [==============================] - 28s 6ms/sample - loss: 2.3026 - accuracy: 0.1922\n",
            "Epoch 4/5\n",
            "5000/5000 [==============================] - 28s 6ms/sample - loss: 2.3026 - accuracy: 0.2434\n",
            "Epoch 5/5\n",
            "5000/5000 [==============================] - 28s 6ms/sample - loss: 2.3026 - accuracy: 0.2348\n"
          ]
        }
      ]
    },
    {
      "cell_type": "code",
      "metadata": {
        "id": "k8D6kU5UIKij",
        "colab": {
          "base_uri": "https://localhost:8080/"
        },
        "outputId": "237357b6-955f-4c66-b955-1c2b8fee599a"
      },
      "source": [
        "predictions_stolen_protected = classifier_stolen_protected.predict(x_test)\n",
        "accuracy = np.sum(np.argmax(predictions_stolen_protected, axis=1) == np.argmax(y_test, axis=1)) / len(y_test)\n",
        "print(\"Accuracy on test examples against protected model (stolen model): {:.2f}%\".format(accuracy * 100))"
      ],
      "execution_count": null,
      "outputs": [
        {
          "output_type": "stream",
          "name": "stdout",
          "text": [
            "Accuracy on test examples against protected model (stolen model): 23.62%\n"
          ]
        }
      ]
    }
  ]
}